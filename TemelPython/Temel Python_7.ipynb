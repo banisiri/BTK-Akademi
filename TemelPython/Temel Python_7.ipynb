{
 "cells": [
  {
   "cell_type": "code",
   "execution_count": 1,
   "metadata": {},
   "outputs": [],
   "source": [
    "BenimListem=[10,20,30,40,50]"
   ]
  },
  {
   "cell_type": "code",
   "execution_count": 2,
   "metadata": {},
   "outputs": [
    {
     "name": "stdout",
     "output_type": "stream",
     "text": [
      "10 var\n"
     ]
    }
   ],
   "source": [
    "if 10 in BenimListem:\n",
    "    print(\"10 var\")\n",
    "else:\n",
    "    print(\"yok\")"
   ]
  },
  {
   "cell_type": "code",
   "execution_count": 4,
   "metadata": {},
   "outputs": [
    {
     "name": "stdout",
     "output_type": "stream",
     "text": [
      "dongu basladi\n",
      "10\n",
      "20\n",
      "30\n",
      "40\n",
      "50\n",
      "dongu bitti\n"
     ]
    }
   ],
   "source": [
    "print(\"dongu basladi\")\n",
    "for numara in BenimListem:\n",
    "    print(numara)\n",
    "print(\"dongu bitti\")"
   ]
  },
  {
   "cell_type": "code",
   "execution_count": 5,
   "metadata": {},
   "outputs": [
    {
     "name": "stdout",
     "output_type": "stream",
     "text": [
      "16.666666666666668\n",
      "33.333333333333336\n",
      "50.0\n",
      "66.66666666666667\n",
      "83.33333333333333\n"
     ]
    }
   ],
   "source": [
    "for num in BenimListem:\n",
    "    yeninumara=num*5/3\n",
    "    print(yeninumara)"
   ]
  },
  {
   "cell_type": "code",
   "execution_count": 7,
   "metadata": {},
   "outputs": [],
   "source": [
    "yeniliste=[1,2,3,4,5,6,7,8,9,10]"
   ]
  },
  {
   "cell_type": "code",
   "execution_count": 13,
   "metadata": {},
   "outputs": [
    {
     "name": "stdout",
     "output_type": "stream",
     "text": [
      "ikiye bolunuyo 2\n",
      "ikiye bolunuyo 4\n",
      "ikiye bolunuyo 6\n",
      "ikiye bolunuyo 8\n",
      "ikiye bolunuyo 10\n"
     ]
    }
   ],
   "source": [
    "for number in yeniliste:\n",
    "    kalan=number % 2\n",
    "    if kalan == 0:\n",
    "        print(\"ikiye bolunuyo\",number)"
   ]
  },
  {
   "cell_type": "code",
   "execution_count": 14,
   "metadata": {},
   "outputs": [
    {
     "name": "stdout",
     "output_type": "stream",
     "text": [
      "2\n",
      "4\n",
      "6\n",
      "8\n",
      "10\n"
     ]
    }
   ],
   "source": [
    "for rakam in yeniliste:\n",
    "    if rakam % 2 ==0:\n",
    "        print(rakam)"
   ]
  },
  {
   "cell_type": "code",
   "execution_count": 15,
   "metadata": {},
   "outputs": [],
   "source": [
    "BenimIsmim=\"kadir sabri\""
   ]
  },
  {
   "cell_type": "code",
   "execution_count": 17,
   "metadata": {},
   "outputs": [
    {
     "name": "stdout",
     "output_type": "stream",
     "text": [
      "k\n",
      "a\n",
      "d\n",
      "i\n",
      "r\n",
      " \n",
      "s\n",
      "a\n",
      "b\n",
      "r\n",
      "i\n"
     ]
    }
   ],
   "source": [
    "for harf in BenimIsmim:\n",
    "    print(harf)"
   ]
  },
  {
   "cell_type": "code",
   "execution_count": 18,
   "metadata": {},
   "outputs": [],
   "source": [
    "BenimTuple=(1,2,3,4,5)"
   ]
  },
  {
   "cell_type": "code",
   "execution_count": 19,
   "metadata": {},
   "outputs": [
    {
     "data": {
      "text/plain": [
       "tuple"
      ]
     },
     "execution_count": 19,
     "metadata": {},
     "output_type": "execute_result"
    }
   ],
   "source": [
    "type(BenimTuple)"
   ]
  },
  {
   "cell_type": "code",
   "execution_count": 20,
   "metadata": {},
   "outputs": [
    {
     "name": "stdout",
     "output_type": "stream",
     "text": [
      "-9\n",
      "-8\n",
      "-7\n",
      "-6\n",
      "-5\n"
     ]
    }
   ],
   "source": [
    "for eleman in BenimTuple:\n",
    "    print(eleman-10)"
   ]
  },
  {
   "cell_type": "code",
   "execution_count": 21,
   "metadata": {},
   "outputs": [],
   "source": [
    "Kordinat=[(10.2,20.1),(5.4,20),(20,5.5)]"
   ]
  },
  {
   "cell_type": "code",
   "execution_count": 22,
   "metadata": {},
   "outputs": [
    {
     "data": {
      "text/plain": [
       "list"
      ]
     },
     "execution_count": 22,
     "metadata": {},
     "output_type": "execute_result"
    }
   ],
   "source": [
    "type(Kordinat)"
   ]
  },
  {
   "cell_type": "code",
   "execution_count": 23,
   "metadata": {},
   "outputs": [
    {
     "data": {
      "text/plain": [
       "tuple"
      ]
     },
     "execution_count": 23,
     "metadata": {},
     "output_type": "execute_result"
    }
   ],
   "source": [
    "type(Kordinat[0])"
   ]
  },
  {
   "cell_type": "code",
   "execution_count": 24,
   "metadata": {},
   "outputs": [
    {
     "name": "stdout",
     "output_type": "stream",
     "text": [
      "(10.2, 20.1)\n",
      "(5.4, 20)\n",
      "(20, 5.5)\n"
     ]
    }
   ],
   "source": [
    "for eleman in Kordinat:\n",
    "    print(eleman)"
   ]
  },
  {
   "cell_type": "code",
   "execution_count": 25,
   "metadata": {},
   "outputs": [
    {
     "name": "stdout",
     "output_type": "stream",
     "text": [
      "10.2\n",
      "5.4\n",
      "20\n"
     ]
    }
   ],
   "source": [
    "for (x,y) in Kordinat:\n",
    "    print(x)"
   ]
  },
  {
   "cell_type": "code",
   "execution_count": 26,
   "metadata": {},
   "outputs": [
    {
     "name": "stdout",
     "output_type": "stream",
     "text": [
      "20.1\n",
      "20\n",
      "5.5\n"
     ]
    }
   ],
   "source": [
    "for (x,y) in Kordinat:\n",
    "    print(y)"
   ]
  },
  {
   "cell_type": "code",
   "execution_count": 27,
   "metadata": {},
   "outputs": [],
   "source": [
    "BenimSozluk={\"muz\":100,\"elma\":200,\"karpuz\":10}"
   ]
  },
  {
   "cell_type": "code",
   "execution_count": 29,
   "metadata": {},
   "outputs": [
    {
     "data": {
      "text/plain": [
       "dict_items([('muz', 100), ('elma', 200), ('karpuz', 10)])"
      ]
     },
     "execution_count": 29,
     "metadata": {},
     "output_type": "execute_result"
    }
   ],
   "source": [
    "BenimSozluk.items()"
   ]
  },
  {
   "cell_type": "code",
   "execution_count": 30,
   "metadata": {},
   "outputs": [
    {
     "data": {
      "text/plain": [
       "builtin_function_or_method"
      ]
     },
     "execution_count": 30,
     "metadata": {},
     "output_type": "execute_result"
    }
   ],
   "source": [
    "type(BenimSozluk.items)"
   ]
  },
  {
   "cell_type": "code",
   "execution_count": 32,
   "metadata": {},
   "outputs": [
    {
     "name": "stdout",
     "output_type": "stream",
     "text": [
      "muz\n",
      "elma\n",
      "karpuz\n"
     ]
    }
   ],
   "source": [
    "for (meyve,kalori) in BenimSozluk.items():\n",
    "    print(meyve)"
   ]
  }
 ],
 "metadata": {
  "kernelspec": {
   "display_name": "Python 3.10.7 64-bit",
   "language": "python",
   "name": "python3"
  },
  "language_info": {
   "codemirror_mode": {
    "name": "ipython",
    "version": 3
   },
   "file_extension": ".py",
   "mimetype": "text/x-python",
   "name": "python",
   "nbconvert_exporter": "python",
   "pygments_lexer": "ipython3",
   "version": "3.10.7"
  },
  "orig_nbformat": 4,
  "vscode": {
   "interpreter": {
    "hash": "e0b44264181467635ea2bc6f47fe90068c9b6f8f6719ab5749f6d45e7317ca04"
   }
  }
 },
 "nbformat": 4,
 "nbformat_minor": 2
}
