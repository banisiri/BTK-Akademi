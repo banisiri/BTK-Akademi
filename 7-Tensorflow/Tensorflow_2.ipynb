{
 "cells": [
  {
   "cell_type": "code",
   "execution_count": 1,
   "metadata": {},
   "outputs": [],
   "source": [
    "import numpy as np\n",
    "import pandas as pd\n",
    "import matplotlib.pyplot as plt\n",
    "import seaborn as sbn"
   ]
  },
  {
   "cell_type": "code",
   "execution_count": 6,
   "metadata": {},
   "outputs": [
    {
     "data": {
      "text/html": [
       "<div>\n",
       "<style scoped>\n",
       "    .dataframe tbody tr th:only-of-type {\n",
       "        vertical-align: middle;\n",
       "    }\n",
       "\n",
       "    .dataframe tbody tr th {\n",
       "        vertical-align: top;\n",
       "    }\n",
       "\n",
       "    .dataframe thead th {\n",
       "        text-align: right;\n",
       "    }\n",
       "</style>\n",
       "<table border=\"1\" class=\"dataframe\">\n",
       "  <thead>\n",
       "    <tr style=\"text-align: right;\">\n",
       "      <th></th>\n",
       "      <th>year</th>\n",
       "      <th>price</th>\n",
       "      <th>transmission</th>\n",
       "      <th>mileage</th>\n",
       "      <th>tax</th>\n",
       "      <th>mpg</th>\n",
       "      <th>engineSize</th>\n",
       "    </tr>\n",
       "  </thead>\n",
       "  <tbody>\n",
       "    <tr>\n",
       "      <th>0</th>\n",
       "      <td>2005</td>\n",
       "      <td>5200</td>\n",
       "      <td>Automatic</td>\n",
       "      <td>63000</td>\n",
       "      <td>325</td>\n",
       "      <td>32.1</td>\n",
       "      <td>1.8</td>\n",
       "    </tr>\n",
       "    <tr>\n",
       "      <th>1</th>\n",
       "      <td>2017</td>\n",
       "      <td>34948</td>\n",
       "      <td>Automatic</td>\n",
       "      <td>27000</td>\n",
       "      <td>20</td>\n",
       "      <td>61.4</td>\n",
       "      <td>2.1</td>\n",
       "    </tr>\n",
       "    <tr>\n",
       "      <th>2</th>\n",
       "      <td>2016</td>\n",
       "      <td>49948</td>\n",
       "      <td>Automatic</td>\n",
       "      <td>6200</td>\n",
       "      <td>555</td>\n",
       "      <td>28.0</td>\n",
       "      <td>5.5</td>\n",
       "    </tr>\n",
       "    <tr>\n",
       "      <th>3</th>\n",
       "      <td>2016</td>\n",
       "      <td>61948</td>\n",
       "      <td>Automatic</td>\n",
       "      <td>16000</td>\n",
       "      <td>325</td>\n",
       "      <td>30.4</td>\n",
       "      <td>4.0</td>\n",
       "    </tr>\n",
       "    <tr>\n",
       "      <th>4</th>\n",
       "      <td>2016</td>\n",
       "      <td>73948</td>\n",
       "      <td>Automatic</td>\n",
       "      <td>4000</td>\n",
       "      <td>325</td>\n",
       "      <td>30.1</td>\n",
       "      <td>4.0</td>\n",
       "    </tr>\n",
       "  </tbody>\n",
       "</table>\n",
       "</div>"
      ],
      "text/plain": [
       "   year  price transmission  mileage  tax   mpg  engineSize\n",
       "0  2005   5200    Automatic    63000  325  32.1         1.8\n",
       "1  2017  34948    Automatic    27000   20  61.4         2.1\n",
       "2  2016  49948    Automatic     6200  555  28.0         5.5\n",
       "3  2016  61948    Automatic    16000  325  30.4         4.0\n",
       "4  2016  73948    Automatic     4000  325  30.1         4.0"
      ]
     },
     "execution_count": 6,
     "metadata": {},
     "output_type": "execute_result"
    }
   ],
   "source": [
    "dataFrame=pd.read_excel(\"merc.xlsx\")\n",
    "dataFrame.head()"
   ]
  },
  {
   "cell_type": "code",
   "execution_count": 7,
   "metadata": {},
   "outputs": [
    {
     "data": {
      "text/html": [
       "<div>\n",
       "<style scoped>\n",
       "    .dataframe tbody tr th:only-of-type {\n",
       "        vertical-align: middle;\n",
       "    }\n",
       "\n",
       "    .dataframe tbody tr th {\n",
       "        vertical-align: top;\n",
       "    }\n",
       "\n",
       "    .dataframe thead th {\n",
       "        text-align: right;\n",
       "    }\n",
       "</style>\n",
       "<table border=\"1\" class=\"dataframe\">\n",
       "  <thead>\n",
       "    <tr style=\"text-align: right;\">\n",
       "      <th></th>\n",
       "      <th>year</th>\n",
       "      <th>price</th>\n",
       "      <th>mileage</th>\n",
       "      <th>tax</th>\n",
       "      <th>mpg</th>\n",
       "      <th>engineSize</th>\n",
       "    </tr>\n",
       "  </thead>\n",
       "  <tbody>\n",
       "    <tr>\n",
       "      <th>count</th>\n",
       "      <td>13119.000000</td>\n",
       "      <td>13119.000000</td>\n",
       "      <td>13119.000000</td>\n",
       "      <td>13119.000000</td>\n",
       "      <td>13119.000000</td>\n",
       "      <td>13119.000000</td>\n",
       "    </tr>\n",
       "    <tr>\n",
       "      <th>mean</th>\n",
       "      <td>2017.296288</td>\n",
       "      <td>24698.596920</td>\n",
       "      <td>21949.559037</td>\n",
       "      <td>129.972178</td>\n",
       "      <td>55.155843</td>\n",
       "      <td>2.071530</td>\n",
       "    </tr>\n",
       "    <tr>\n",
       "      <th>std</th>\n",
       "      <td>2.224709</td>\n",
       "      <td>11842.675542</td>\n",
       "      <td>21176.512267</td>\n",
       "      <td>65.260286</td>\n",
       "      <td>15.220082</td>\n",
       "      <td>0.572426</td>\n",
       "    </tr>\n",
       "    <tr>\n",
       "      <th>min</th>\n",
       "      <td>1970.000000</td>\n",
       "      <td>650.000000</td>\n",
       "      <td>1.000000</td>\n",
       "      <td>0.000000</td>\n",
       "      <td>1.100000</td>\n",
       "      <td>0.000000</td>\n",
       "    </tr>\n",
       "    <tr>\n",
       "      <th>25%</th>\n",
       "      <td>2016.000000</td>\n",
       "      <td>17450.000000</td>\n",
       "      <td>6097.500000</td>\n",
       "      <td>125.000000</td>\n",
       "      <td>45.600000</td>\n",
       "      <td>1.800000</td>\n",
       "    </tr>\n",
       "    <tr>\n",
       "      <th>50%</th>\n",
       "      <td>2018.000000</td>\n",
       "      <td>22480.000000</td>\n",
       "      <td>15189.000000</td>\n",
       "      <td>145.000000</td>\n",
       "      <td>56.500000</td>\n",
       "      <td>2.000000</td>\n",
       "    </tr>\n",
       "    <tr>\n",
       "      <th>75%</th>\n",
       "      <td>2019.000000</td>\n",
       "      <td>28980.000000</td>\n",
       "      <td>31779.500000</td>\n",
       "      <td>145.000000</td>\n",
       "      <td>64.200000</td>\n",
       "      <td>2.100000</td>\n",
       "    </tr>\n",
       "    <tr>\n",
       "      <th>max</th>\n",
       "      <td>2020.000000</td>\n",
       "      <td>159999.000000</td>\n",
       "      <td>259000.000000</td>\n",
       "      <td>580.000000</td>\n",
       "      <td>217.300000</td>\n",
       "      <td>6.200000</td>\n",
       "    </tr>\n",
       "  </tbody>\n",
       "</table>\n",
       "</div>"
      ],
      "text/plain": [
       "               year          price        mileage           tax           mpg  \\\n",
       "count  13119.000000   13119.000000   13119.000000  13119.000000  13119.000000   \n",
       "mean    2017.296288   24698.596920   21949.559037    129.972178     55.155843   \n",
       "std        2.224709   11842.675542   21176.512267     65.260286     15.220082   \n",
       "min     1970.000000     650.000000       1.000000      0.000000      1.100000   \n",
       "25%     2016.000000   17450.000000    6097.500000    125.000000     45.600000   \n",
       "50%     2018.000000   22480.000000   15189.000000    145.000000     56.500000   \n",
       "75%     2019.000000   28980.000000   31779.500000    145.000000     64.200000   \n",
       "max     2020.000000  159999.000000  259000.000000    580.000000    217.300000   \n",
       "\n",
       "         engineSize  \n",
       "count  13119.000000  \n",
       "mean       2.071530  \n",
       "std        0.572426  \n",
       "min        0.000000  \n",
       "25%        1.800000  \n",
       "50%        2.000000  \n",
       "75%        2.100000  \n",
       "max        6.200000  "
      ]
     },
     "execution_count": 7,
     "metadata": {},
     "output_type": "execute_result"
    }
   ],
   "source": [
    "dataFrame.describe()"
   ]
  },
  {
   "cell_type": "code",
   "execution_count": 10,
   "metadata": {},
   "outputs": [
    {
     "data": {
      "text/plain": [
       "year            False\n",
       "price           False\n",
       "transmission    False\n",
       "mileage         False\n",
       "tax             False\n",
       "mpg             False\n",
       "engineSize      False\n",
       "dtype: bool"
      ]
     },
     "execution_count": 10,
     "metadata": {},
     "output_type": "execute_result"
    }
   ],
   "source": [
    "dataFrame.isnull().any()"
   ]
  },
  {
   "cell_type": "code",
   "execution_count": 11,
   "metadata": {},
   "outputs": [
    {
     "data": {
      "text/plain": [
       "year            0\n",
       "price           0\n",
       "transmission    0\n",
       "mileage         0\n",
       "tax             0\n",
       "mpg             0\n",
       "engineSize      0\n",
       "dtype: int64"
      ]
     },
     "execution_count": 11,
     "metadata": {},
     "output_type": "execute_result"
    }
   ],
   "source": [
    "dataFrame.isnull().sum()"
   ]
  },
  {
   "cell_type": "code",
   "execution_count": null,
   "metadata": {},
   "outputs": [],
   "source": []
  }
 ],
 "metadata": {
  "kernelspec": {
   "display_name": "Python 3.10.5 64-bit",
   "language": "python",
   "name": "python3"
  },
  "language_info": {
   "codemirror_mode": {
    "name": "ipython",
    "version": 3
   },
   "file_extension": ".py",
   "mimetype": "text/x-python",
   "name": "python",
   "nbconvert_exporter": "python",
   "pygments_lexer": "ipython3",
   "version": "3.10.5"
  },
  "orig_nbformat": 4,
  "vscode": {
   "interpreter": {
    "hash": "4785a242b6d10e567349673141bf2f46488d9d0068a42aa820d15ab11c1ddd75"
   }
  }
 },
 "nbformat": 4,
 "nbformat_minor": 2
}
