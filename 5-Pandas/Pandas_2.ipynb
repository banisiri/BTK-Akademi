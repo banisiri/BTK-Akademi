{
 "cells": [
  {
   "cell_type": "markdown",
   "metadata": {},
   "source": [
    "dataframe"
   ]
  },
  {
   "cell_type": "code",
   "execution_count": 44,
   "metadata": {},
   "outputs": [],
   "source": [
    "import pandas as pd\n",
    "import numpy as np"
   ]
  },
  {
   "cell_type": "code",
   "execution_count": 45,
   "metadata": {},
   "outputs": [],
   "source": [
    "data = np.random.randn(4,3)"
   ]
  },
  {
   "cell_type": "code",
   "execution_count": 46,
   "metadata": {},
   "outputs": [],
   "source": [
    "dataFrame=pd.DataFrame(data)"
   ]
  },
  {
   "cell_type": "code",
   "execution_count": 47,
   "metadata": {},
   "outputs": [
    {
     "data": {
      "text/html": [
       "<div>\n",
       "<style scoped>\n",
       "    .dataframe tbody tr th:only-of-type {\n",
       "        vertical-align: middle;\n",
       "    }\n",
       "\n",
       "    .dataframe tbody tr th {\n",
       "        vertical-align: top;\n",
       "    }\n",
       "\n",
       "    .dataframe thead th {\n",
       "        text-align: right;\n",
       "    }\n",
       "</style>\n",
       "<table border=\"1\" class=\"dataframe\">\n",
       "  <thead>\n",
       "    <tr style=\"text-align: right;\">\n",
       "      <th></th>\n",
       "      <th>0</th>\n",
       "      <th>1</th>\n",
       "      <th>2</th>\n",
       "    </tr>\n",
       "  </thead>\n",
       "  <tbody>\n",
       "    <tr>\n",
       "      <th>0</th>\n",
       "      <td>-0.368231</td>\n",
       "      <td>0.683234</td>\n",
       "      <td>0.437005</td>\n",
       "    </tr>\n",
       "    <tr>\n",
       "      <th>1</th>\n",
       "      <td>-0.839665</td>\n",
       "      <td>-0.231012</td>\n",
       "      <td>-1.265076</td>\n",
       "    </tr>\n",
       "    <tr>\n",
       "      <th>2</th>\n",
       "      <td>1.267795</td>\n",
       "      <td>-1.442844</td>\n",
       "      <td>1.283411</td>\n",
       "    </tr>\n",
       "    <tr>\n",
       "      <th>3</th>\n",
       "      <td>-0.333635</td>\n",
       "      <td>-0.924168</td>\n",
       "      <td>0.645542</td>\n",
       "    </tr>\n",
       "  </tbody>\n",
       "</table>\n",
       "</div>"
      ],
      "text/plain": [
       "          0         1         2\n",
       "0 -0.368231  0.683234  0.437005\n",
       "1 -0.839665 -0.231012 -1.265076\n",
       "2  1.267795 -1.442844  1.283411\n",
       "3 -0.333635 -0.924168  0.645542"
      ]
     },
     "execution_count": 47,
     "metadata": {},
     "output_type": "execute_result"
    }
   ],
   "source": [
    "dataFrame"
   ]
  },
  {
   "cell_type": "code",
   "execution_count": 48,
   "metadata": {},
   "outputs": [],
   "source": [
    "yeniDataFrame = pd.DataFrame(data,index=[\"sabri\",\"basri\",\"osman\",\"mahmut\"],columns=[\"maas\",\"yas\",\"calisma saati\"])"
   ]
  },
  {
   "cell_type": "code",
   "execution_count": 49,
   "metadata": {},
   "outputs": [
    {
     "data": {
      "text/html": [
       "<div>\n",
       "<style scoped>\n",
       "    .dataframe tbody tr th:only-of-type {\n",
       "        vertical-align: middle;\n",
       "    }\n",
       "\n",
       "    .dataframe tbody tr th {\n",
       "        vertical-align: top;\n",
       "    }\n",
       "\n",
       "    .dataframe thead th {\n",
       "        text-align: right;\n",
       "    }\n",
       "</style>\n",
       "<table border=\"1\" class=\"dataframe\">\n",
       "  <thead>\n",
       "    <tr style=\"text-align: right;\">\n",
       "      <th></th>\n",
       "      <th>maas</th>\n",
       "      <th>yas</th>\n",
       "      <th>calisma saati</th>\n",
       "    </tr>\n",
       "  </thead>\n",
       "  <tbody>\n",
       "    <tr>\n",
       "      <th>sabri</th>\n",
       "      <td>-0.368231</td>\n",
       "      <td>0.683234</td>\n",
       "      <td>0.437005</td>\n",
       "    </tr>\n",
       "    <tr>\n",
       "      <th>basri</th>\n",
       "      <td>-0.839665</td>\n",
       "      <td>-0.231012</td>\n",
       "      <td>-1.265076</td>\n",
       "    </tr>\n",
       "    <tr>\n",
       "      <th>osman</th>\n",
       "      <td>1.267795</td>\n",
       "      <td>-1.442844</td>\n",
       "      <td>1.283411</td>\n",
       "    </tr>\n",
       "    <tr>\n",
       "      <th>mahmut</th>\n",
       "      <td>-0.333635</td>\n",
       "      <td>-0.924168</td>\n",
       "      <td>0.645542</td>\n",
       "    </tr>\n",
       "  </tbody>\n",
       "</table>\n",
       "</div>"
      ],
      "text/plain": [
       "            maas       yas  calisma saati\n",
       "sabri  -0.368231  0.683234       0.437005\n",
       "basri  -0.839665 -0.231012      -1.265076\n",
       "osman   1.267795 -1.442844       1.283411\n",
       "mahmut -0.333635 -0.924168       0.645542"
      ]
     },
     "execution_count": 49,
     "metadata": {},
     "output_type": "execute_result"
    }
   ],
   "source": [
    "yeniDataFrame"
   ]
  },
  {
   "cell_type": "code",
   "execution_count": 50,
   "metadata": {},
   "outputs": [
    {
     "data": {
      "text/plain": [
       "sabri     0.683234\n",
       "basri    -0.231012\n",
       "osman    -1.442844\n",
       "mahmut   -0.924168\n",
       "Name: yas, dtype: float64"
      ]
     },
     "execution_count": 50,
     "metadata": {},
     "output_type": "execute_result"
    }
   ],
   "source": [
    "yeniDataFrame[\"yas\"]"
   ]
  },
  {
   "cell_type": "code",
   "execution_count": 51,
   "metadata": {},
   "outputs": [
    {
     "data": {
      "text/plain": [
       "sabri     0.437005\n",
       "basri    -1.265076\n",
       "osman     1.283411\n",
       "mahmut    0.645542\n",
       "Name: calisma saati, dtype: float64"
      ]
     },
     "execution_count": 51,
     "metadata": {},
     "output_type": "execute_result"
    }
   ],
   "source": [
    "yeniDataFrame[\"calisma saati\"]"
   ]
  },
  {
   "cell_type": "code",
   "execution_count": 52,
   "metadata": {},
   "outputs": [
    {
     "data": {
      "text/html": [
       "<div>\n",
       "<style scoped>\n",
       "    .dataframe tbody tr th:only-of-type {\n",
       "        vertical-align: middle;\n",
       "    }\n",
       "\n",
       "    .dataframe tbody tr th {\n",
       "        vertical-align: top;\n",
       "    }\n",
       "\n",
       "    .dataframe thead th {\n",
       "        text-align: right;\n",
       "    }\n",
       "</style>\n",
       "<table border=\"1\" class=\"dataframe\">\n",
       "  <thead>\n",
       "    <tr style=\"text-align: right;\">\n",
       "      <th></th>\n",
       "      <th>maas</th>\n",
       "      <th>yas</th>\n",
       "    </tr>\n",
       "  </thead>\n",
       "  <tbody>\n",
       "    <tr>\n",
       "      <th>sabri</th>\n",
       "      <td>-0.368231</td>\n",
       "      <td>0.683234</td>\n",
       "    </tr>\n",
       "    <tr>\n",
       "      <th>basri</th>\n",
       "      <td>-0.839665</td>\n",
       "      <td>-0.231012</td>\n",
       "    </tr>\n",
       "    <tr>\n",
       "      <th>osman</th>\n",
       "      <td>1.267795</td>\n",
       "      <td>-1.442844</td>\n",
       "    </tr>\n",
       "    <tr>\n",
       "      <th>mahmut</th>\n",
       "      <td>-0.333635</td>\n",
       "      <td>-0.924168</td>\n",
       "    </tr>\n",
       "  </tbody>\n",
       "</table>\n",
       "</div>"
      ],
      "text/plain": [
       "            maas       yas\n",
       "sabri  -0.368231  0.683234\n",
       "basri  -0.839665 -0.231012\n",
       "osman   1.267795 -1.442844\n",
       "mahmut -0.333635 -0.924168"
      ]
     },
     "execution_count": 52,
     "metadata": {},
     "output_type": "execute_result"
    }
   ],
   "source": [
    "yeniDataFrame[[\"maas\",\"yas\"]]"
   ]
  },
  {
   "cell_type": "code",
   "execution_count": 53,
   "metadata": {},
   "outputs": [
    {
     "data": {
      "text/plain": [
       "maas            -0.368231\n",
       "yas              0.683234\n",
       "calisma saati    0.437005\n",
       "Name: sabri, dtype: float64"
      ]
     },
     "execution_count": 53,
     "metadata": {},
     "output_type": "execute_result"
    }
   ],
   "source": [
    "yeniDataFrame.loc[\"sabri\"]"
   ]
  },
  {
   "cell_type": "code",
   "execution_count": 55,
   "metadata": {},
   "outputs": [
    {
     "data": {
      "text/plain": [
       "maas             1.267795\n",
       "yas             -1.442844\n",
       "calisma saati    1.283411\n",
       "Name: osman, dtype: float64"
      ]
     },
     "execution_count": 55,
     "metadata": {},
     "output_type": "execute_result"
    }
   ],
   "source": [
    "yeniDataFrame.loc[\"osman\"]"
   ]
  },
  {
   "cell_type": "code",
   "execution_count": 56,
   "metadata": {},
   "outputs": [],
   "source": [
    "yeniDataFrame[\"Emeklilik Yasi\"]=yeniDataFrame[\"yas\"]+yeniDataFrame[\"yas\"]"
   ]
  },
  {
   "cell_type": "code",
   "execution_count": 57,
   "metadata": {},
   "outputs": [
    {
     "data": {
      "text/html": [
       "<div>\n",
       "<style scoped>\n",
       "    .dataframe tbody tr th:only-of-type {\n",
       "        vertical-align: middle;\n",
       "    }\n",
       "\n",
       "    .dataframe tbody tr th {\n",
       "        vertical-align: top;\n",
       "    }\n",
       "\n",
       "    .dataframe thead th {\n",
       "        text-align: right;\n",
       "    }\n",
       "</style>\n",
       "<table border=\"1\" class=\"dataframe\">\n",
       "  <thead>\n",
       "    <tr style=\"text-align: right;\">\n",
       "      <th></th>\n",
       "      <th>maas</th>\n",
       "      <th>yas</th>\n",
       "      <th>calisma saati</th>\n",
       "      <th>Emeklilik Yasi</th>\n",
       "    </tr>\n",
       "  </thead>\n",
       "  <tbody>\n",
       "    <tr>\n",
       "      <th>sabri</th>\n",
       "      <td>-0.368231</td>\n",
       "      <td>0.683234</td>\n",
       "      <td>0.437005</td>\n",
       "      <td>1.366468</td>\n",
       "    </tr>\n",
       "    <tr>\n",
       "      <th>basri</th>\n",
       "      <td>-0.839665</td>\n",
       "      <td>-0.231012</td>\n",
       "      <td>-1.265076</td>\n",
       "      <td>-0.462023</td>\n",
       "    </tr>\n",
       "    <tr>\n",
       "      <th>osman</th>\n",
       "      <td>1.267795</td>\n",
       "      <td>-1.442844</td>\n",
       "      <td>1.283411</td>\n",
       "      <td>-2.885687</td>\n",
       "    </tr>\n",
       "    <tr>\n",
       "      <th>mahmut</th>\n",
       "      <td>-0.333635</td>\n",
       "      <td>-0.924168</td>\n",
       "      <td>0.645542</td>\n",
       "      <td>-1.848335</td>\n",
       "    </tr>\n",
       "  </tbody>\n",
       "</table>\n",
       "</div>"
      ],
      "text/plain": [
       "            maas       yas  calisma saati  Emeklilik Yasi\n",
       "sabri  -0.368231  0.683234       0.437005        1.366468\n",
       "basri  -0.839665 -0.231012      -1.265076       -0.462023\n",
       "osman   1.267795 -1.442844       1.283411       -2.885687\n",
       "mahmut -0.333635 -0.924168       0.645542       -1.848335"
      ]
     },
     "execution_count": 57,
     "metadata": {},
     "output_type": "execute_result"
    }
   ],
   "source": [
    "yeniDataFrame"
   ]
  },
  {
   "cell_type": "code",
   "execution_count": 59,
   "metadata": {},
   "outputs": [
    {
     "data": {
      "text/html": [
       "<div>\n",
       "<style scoped>\n",
       "    .dataframe tbody tr th:only-of-type {\n",
       "        vertical-align: middle;\n",
       "    }\n",
       "\n",
       "    .dataframe tbody tr th {\n",
       "        vertical-align: top;\n",
       "    }\n",
       "\n",
       "    .dataframe thead th {\n",
       "        text-align: right;\n",
       "    }\n",
       "</style>\n",
       "<table border=\"1\" class=\"dataframe\">\n",
       "  <thead>\n",
       "    <tr style=\"text-align: right;\">\n",
       "      <th></th>\n",
       "      <th>maas</th>\n",
       "      <th>yas</th>\n",
       "      <th>calisma saati</th>\n",
       "    </tr>\n",
       "  </thead>\n",
       "  <tbody>\n",
       "    <tr>\n",
       "      <th>sabri</th>\n",
       "      <td>-0.368231</td>\n",
       "      <td>0.683234</td>\n",
       "      <td>0.437005</td>\n",
       "    </tr>\n",
       "    <tr>\n",
       "      <th>basri</th>\n",
       "      <td>-0.839665</td>\n",
       "      <td>-0.231012</td>\n",
       "      <td>-1.265076</td>\n",
       "    </tr>\n",
       "    <tr>\n",
       "      <th>osman</th>\n",
       "      <td>1.267795</td>\n",
       "      <td>-1.442844</td>\n",
       "      <td>1.283411</td>\n",
       "    </tr>\n",
       "    <tr>\n",
       "      <th>mahmut</th>\n",
       "      <td>-0.333635</td>\n",
       "      <td>-0.924168</td>\n",
       "      <td>0.645542</td>\n",
       "    </tr>\n",
       "  </tbody>\n",
       "</table>\n",
       "</div>"
      ],
      "text/plain": [
       "            maas       yas  calisma saati\n",
       "sabri  -0.368231  0.683234       0.437005\n",
       "basri  -0.839665 -0.231012      -1.265076\n",
       "osman   1.267795 -1.442844       1.283411\n",
       "mahmut -0.333635 -0.924168       0.645542"
      ]
     },
     "execution_count": 59,
     "metadata": {},
     "output_type": "execute_result"
    }
   ],
   "source": [
    "yeniDataFrame.drop(\"Emeklilik Yasi\",axis=1)"
   ]
  },
  {
   "cell_type": "code",
   "execution_count": 61,
   "metadata": {},
   "outputs": [
    {
     "data": {
      "text/html": [
       "<div>\n",
       "<style scoped>\n",
       "    .dataframe tbody tr th:only-of-type {\n",
       "        vertical-align: middle;\n",
       "    }\n",
       "\n",
       "    .dataframe tbody tr th {\n",
       "        vertical-align: top;\n",
       "    }\n",
       "\n",
       "    .dataframe thead th {\n",
       "        text-align: right;\n",
       "    }\n",
       "</style>\n",
       "<table border=\"1\" class=\"dataframe\">\n",
       "  <thead>\n",
       "    <tr style=\"text-align: right;\">\n",
       "      <th></th>\n",
       "      <th>maas</th>\n",
       "      <th>yas</th>\n",
       "      <th>calisma saati</th>\n",
       "      <th>Emeklilik Yasi</th>\n",
       "    </tr>\n",
       "  </thead>\n",
       "  <tbody>\n",
       "    <tr>\n",
       "      <th>sabri</th>\n",
       "      <td>-0.368231</td>\n",
       "      <td>0.683234</td>\n",
       "      <td>0.437005</td>\n",
       "      <td>1.366468</td>\n",
       "    </tr>\n",
       "    <tr>\n",
       "      <th>basri</th>\n",
       "      <td>-0.839665</td>\n",
       "      <td>-0.231012</td>\n",
       "      <td>-1.265076</td>\n",
       "      <td>-0.462023</td>\n",
       "    </tr>\n",
       "    <tr>\n",
       "      <th>mahmut</th>\n",
       "      <td>-0.333635</td>\n",
       "      <td>-0.924168</td>\n",
       "      <td>0.645542</td>\n",
       "      <td>-1.848335</td>\n",
       "    </tr>\n",
       "  </tbody>\n",
       "</table>\n",
       "</div>"
      ],
      "text/plain": [
       "            maas       yas  calisma saati  Emeklilik Yasi\n",
       "sabri  -0.368231  0.683234       0.437005        1.366468\n",
       "basri  -0.839665 -0.231012      -1.265076       -0.462023\n",
       "mahmut -0.333635 -0.924168       0.645542       -1.848335"
      ]
     },
     "execution_count": 61,
     "metadata": {},
     "output_type": "execute_result"
    }
   ],
   "source": [
    "yeniDataFrame.drop(\"osman\",axis=0)"
   ]
  },
  {
   "cell_type": "code",
   "execution_count": 62,
   "metadata": {},
   "outputs": [
    {
     "data": {
      "text/html": [
       "<div>\n",
       "<style scoped>\n",
       "    .dataframe tbody tr th:only-of-type {\n",
       "        vertical-align: middle;\n",
       "    }\n",
       "\n",
       "    .dataframe tbody tr th {\n",
       "        vertical-align: top;\n",
       "    }\n",
       "\n",
       "    .dataframe thead th {\n",
       "        text-align: right;\n",
       "    }\n",
       "</style>\n",
       "<table border=\"1\" class=\"dataframe\">\n",
       "  <thead>\n",
       "    <tr style=\"text-align: right;\">\n",
       "      <th></th>\n",
       "      <th>maas</th>\n",
       "      <th>yas</th>\n",
       "      <th>calisma saati</th>\n",
       "      <th>Emeklilik Yasi</th>\n",
       "    </tr>\n",
       "  </thead>\n",
       "  <tbody>\n",
       "    <tr>\n",
       "      <th>sabri</th>\n",
       "      <td>-0.368231</td>\n",
       "      <td>0.683234</td>\n",
       "      <td>0.437005</td>\n",
       "      <td>1.366468</td>\n",
       "    </tr>\n",
       "    <tr>\n",
       "      <th>basri</th>\n",
       "      <td>-0.839665</td>\n",
       "      <td>-0.231012</td>\n",
       "      <td>-1.265076</td>\n",
       "      <td>-0.462023</td>\n",
       "    </tr>\n",
       "    <tr>\n",
       "      <th>osman</th>\n",
       "      <td>1.267795</td>\n",
       "      <td>-1.442844</td>\n",
       "      <td>1.283411</td>\n",
       "      <td>-2.885687</td>\n",
       "    </tr>\n",
       "    <tr>\n",
       "      <th>mahmut</th>\n",
       "      <td>-0.333635</td>\n",
       "      <td>-0.924168</td>\n",
       "      <td>0.645542</td>\n",
       "      <td>-1.848335</td>\n",
       "    </tr>\n",
       "  </tbody>\n",
       "</table>\n",
       "</div>"
      ],
      "text/plain": [
       "            maas       yas  calisma saati  Emeklilik Yasi\n",
       "sabri  -0.368231  0.683234       0.437005        1.366468\n",
       "basri  -0.839665 -0.231012      -1.265076       -0.462023\n",
       "osman   1.267795 -1.442844       1.283411       -2.885687\n",
       "mahmut -0.333635 -0.924168       0.645542       -1.848335"
      ]
     },
     "execution_count": 62,
     "metadata": {},
     "output_type": "execute_result"
    }
   ],
   "source": [
    "yeniDataFrame"
   ]
  },
  {
   "cell_type": "code",
   "execution_count": 63,
   "metadata": {},
   "outputs": [],
   "source": [
    "yeniDataFrame.drop(\"Emeklilik Yasi\",axis=1,inplace=True)"
   ]
  },
  {
   "cell_type": "code",
   "execution_count": 64,
   "metadata": {},
   "outputs": [
    {
     "data": {
      "text/html": [
       "<div>\n",
       "<style scoped>\n",
       "    .dataframe tbody tr th:only-of-type {\n",
       "        vertical-align: middle;\n",
       "    }\n",
       "\n",
       "    .dataframe tbody tr th {\n",
       "        vertical-align: top;\n",
       "    }\n",
       "\n",
       "    .dataframe thead th {\n",
       "        text-align: right;\n",
       "    }\n",
       "</style>\n",
       "<table border=\"1\" class=\"dataframe\">\n",
       "  <thead>\n",
       "    <tr style=\"text-align: right;\">\n",
       "      <th></th>\n",
       "      <th>maas</th>\n",
       "      <th>yas</th>\n",
       "      <th>calisma saati</th>\n",
       "    </tr>\n",
       "  </thead>\n",
       "  <tbody>\n",
       "    <tr>\n",
       "      <th>sabri</th>\n",
       "      <td>-0.368231</td>\n",
       "      <td>0.683234</td>\n",
       "      <td>0.437005</td>\n",
       "    </tr>\n",
       "    <tr>\n",
       "      <th>basri</th>\n",
       "      <td>-0.839665</td>\n",
       "      <td>-0.231012</td>\n",
       "      <td>-1.265076</td>\n",
       "    </tr>\n",
       "    <tr>\n",
       "      <th>osman</th>\n",
       "      <td>1.267795</td>\n",
       "      <td>-1.442844</td>\n",
       "      <td>1.283411</td>\n",
       "    </tr>\n",
       "    <tr>\n",
       "      <th>mahmut</th>\n",
       "      <td>-0.333635</td>\n",
       "      <td>-0.924168</td>\n",
       "      <td>0.645542</td>\n",
       "    </tr>\n",
       "  </tbody>\n",
       "</table>\n",
       "</div>"
      ],
      "text/plain": [
       "            maas       yas  calisma saati\n",
       "sabri  -0.368231  0.683234       0.437005\n",
       "basri  -0.839665 -0.231012      -1.265076\n",
       "osman   1.267795 -1.442844       1.283411\n",
       "mahmut -0.333635 -0.924168       0.645542"
      ]
     },
     "execution_count": 64,
     "metadata": {},
     "output_type": "execute_result"
    }
   ],
   "source": [
    "yeniDataFrame"
   ]
  },
  {
   "cell_type": "code",
   "execution_count": 66,
   "metadata": {},
   "outputs": [
    {
     "data": {
      "text/plain": [
       "0.6832342371977035"
      ]
     },
     "execution_count": 66,
     "metadata": {},
     "output_type": "execute_result"
    }
   ],
   "source": [
    "yeniDataFrame.loc[\"sabri\"][\"yas\"]"
   ]
  },
  {
   "cell_type": "code",
   "execution_count": 67,
   "metadata": {},
   "outputs": [
    {
     "data": {
      "text/plain": [
       "0.6832342371977035"
      ]
     },
     "execution_count": 67,
     "metadata": {},
     "output_type": "execute_result"
    }
   ],
   "source": [
    "yeniDataFrame.loc[\"sabri\",\"yas\"]"
   ]
  },
  {
   "cell_type": "code",
   "execution_count": 68,
   "metadata": {},
   "outputs": [
    {
     "data": {
      "text/html": [
       "<div>\n",
       "<style scoped>\n",
       "    .dataframe tbody tr th:only-of-type {\n",
       "        vertical-align: middle;\n",
       "    }\n",
       "\n",
       "    .dataframe tbody tr th {\n",
       "        vertical-align: top;\n",
       "    }\n",
       "\n",
       "    .dataframe thead th {\n",
       "        text-align: right;\n",
       "    }\n",
       "</style>\n",
       "<table border=\"1\" class=\"dataframe\">\n",
       "  <thead>\n",
       "    <tr style=\"text-align: right;\">\n",
       "      <th></th>\n",
       "      <th>maas</th>\n",
       "      <th>yas</th>\n",
       "      <th>calisma saati</th>\n",
       "    </tr>\n",
       "  </thead>\n",
       "  <tbody>\n",
       "    <tr>\n",
       "      <th>sabri</th>\n",
       "      <td>-0.368231</td>\n",
       "      <td>0.683234</td>\n",
       "      <td>0.437005</td>\n",
       "    </tr>\n",
       "    <tr>\n",
       "      <th>basri</th>\n",
       "      <td>-0.839665</td>\n",
       "      <td>-0.231012</td>\n",
       "      <td>-1.265076</td>\n",
       "    </tr>\n",
       "    <tr>\n",
       "      <th>osman</th>\n",
       "      <td>1.267795</td>\n",
       "      <td>-1.442844</td>\n",
       "      <td>1.283411</td>\n",
       "    </tr>\n",
       "    <tr>\n",
       "      <th>mahmut</th>\n",
       "      <td>-0.333635</td>\n",
       "      <td>-0.924168</td>\n",
       "      <td>0.645542</td>\n",
       "    </tr>\n",
       "  </tbody>\n",
       "</table>\n",
       "</div>"
      ],
      "text/plain": [
       "            maas       yas  calisma saati\n",
       "sabri  -0.368231  0.683234       0.437005\n",
       "basri  -0.839665 -0.231012      -1.265076\n",
       "osman   1.267795 -1.442844       1.283411\n",
       "mahmut -0.333635 -0.924168       0.645542"
      ]
     },
     "execution_count": 68,
     "metadata": {},
     "output_type": "execute_result"
    }
   ],
   "source": [
    "yeniDataFrame"
   ]
  },
  {
   "cell_type": "code",
   "execution_count": 69,
   "metadata": {},
   "outputs": [
    {
     "data": {
      "text/html": [
       "<div>\n",
       "<style scoped>\n",
       "    .dataframe tbody tr th:only-of-type {\n",
       "        vertical-align: middle;\n",
       "    }\n",
       "\n",
       "    .dataframe tbody tr th {\n",
       "        vertical-align: top;\n",
       "    }\n",
       "\n",
       "    .dataframe thead th {\n",
       "        text-align: right;\n",
       "    }\n",
       "</style>\n",
       "<table border=\"1\" class=\"dataframe\">\n",
       "  <thead>\n",
       "    <tr style=\"text-align: right;\">\n",
       "      <th></th>\n",
       "      <th>maas</th>\n",
       "      <th>yas</th>\n",
       "      <th>calisma saati</th>\n",
       "    </tr>\n",
       "  </thead>\n",
       "  <tbody>\n",
       "    <tr>\n",
       "      <th>sabri</th>\n",
       "      <td>True</td>\n",
       "      <td>False</td>\n",
       "      <td>False</td>\n",
       "    </tr>\n",
       "    <tr>\n",
       "      <th>basri</th>\n",
       "      <td>True</td>\n",
       "      <td>True</td>\n",
       "      <td>True</td>\n",
       "    </tr>\n",
       "    <tr>\n",
       "      <th>osman</th>\n",
       "      <td>False</td>\n",
       "      <td>True</td>\n",
       "      <td>False</td>\n",
       "    </tr>\n",
       "    <tr>\n",
       "      <th>mahmut</th>\n",
       "      <td>True</td>\n",
       "      <td>True</td>\n",
       "      <td>False</td>\n",
       "    </tr>\n",
       "  </tbody>\n",
       "</table>\n",
       "</div>"
      ],
      "text/plain": [
       "         maas    yas  calisma saati\n",
       "sabri    True  False          False\n",
       "basri    True   True           True\n",
       "osman   False   True          False\n",
       "mahmut   True   True          False"
      ]
     },
     "execution_count": 69,
     "metadata": {},
     "output_type": "execute_result"
    }
   ],
   "source": [
    "yeniDataFrame<0"
   ]
  },
  {
   "cell_type": "code",
   "execution_count": 71,
   "metadata": {},
   "outputs": [
    {
     "data": {
      "text/html": [
       "<div>\n",
       "<style scoped>\n",
       "    .dataframe tbody tr th:only-of-type {\n",
       "        vertical-align: middle;\n",
       "    }\n",
       "\n",
       "    .dataframe tbody tr th {\n",
       "        vertical-align: top;\n",
       "    }\n",
       "\n",
       "    .dataframe thead th {\n",
       "        text-align: right;\n",
       "    }\n",
       "</style>\n",
       "<table border=\"1\" class=\"dataframe\">\n",
       "  <thead>\n",
       "    <tr style=\"text-align: right;\">\n",
       "      <th></th>\n",
       "      <th>maas</th>\n",
       "      <th>yas</th>\n",
       "      <th>calisma saati</th>\n",
       "    </tr>\n",
       "  </thead>\n",
       "  <tbody>\n",
       "    <tr>\n",
       "      <th>sabri</th>\n",
       "      <td>NaN</td>\n",
       "      <td>0.683234</td>\n",
       "      <td>0.437005</td>\n",
       "    </tr>\n",
       "    <tr>\n",
       "      <th>basri</th>\n",
       "      <td>NaN</td>\n",
       "      <td>NaN</td>\n",
       "      <td>NaN</td>\n",
       "    </tr>\n",
       "    <tr>\n",
       "      <th>osman</th>\n",
       "      <td>1.267795</td>\n",
       "      <td>NaN</td>\n",
       "      <td>1.283411</td>\n",
       "    </tr>\n",
       "    <tr>\n",
       "      <th>mahmut</th>\n",
       "      <td>NaN</td>\n",
       "      <td>NaN</td>\n",
       "      <td>0.645542</td>\n",
       "    </tr>\n",
       "  </tbody>\n",
       "</table>\n",
       "</div>"
      ],
      "text/plain": [
       "            maas       yas  calisma saati\n",
       "sabri        NaN  0.683234       0.437005\n",
       "basri        NaN       NaN            NaN\n",
       "osman   1.267795       NaN       1.283411\n",
       "mahmut       NaN       NaN       0.645542"
      ]
     },
     "execution_count": 71,
     "metadata": {},
     "output_type": "execute_result"
    }
   ],
   "source": [
    "yeniDataFrame[yeniDataFrame>0]"
   ]
  },
  {
   "cell_type": "code",
   "execution_count": 72,
   "metadata": {},
   "outputs": [],
   "source": [
    "booleanFrame=yeniDataFrame<0"
   ]
  },
  {
   "cell_type": "code",
   "execution_count": 73,
   "metadata": {},
   "outputs": [
    {
     "data": {
      "text/html": [
       "<div>\n",
       "<style scoped>\n",
       "    .dataframe tbody tr th:only-of-type {\n",
       "        vertical-align: middle;\n",
       "    }\n",
       "\n",
       "    .dataframe tbody tr th {\n",
       "        vertical-align: top;\n",
       "    }\n",
       "\n",
       "    .dataframe thead th {\n",
       "        text-align: right;\n",
       "    }\n",
       "</style>\n",
       "<table border=\"1\" class=\"dataframe\">\n",
       "  <thead>\n",
       "    <tr style=\"text-align: right;\">\n",
       "      <th></th>\n",
       "      <th>maas</th>\n",
       "      <th>yas</th>\n",
       "      <th>calisma saati</th>\n",
       "    </tr>\n",
       "  </thead>\n",
       "  <tbody>\n",
       "    <tr>\n",
       "      <th>sabri</th>\n",
       "      <td>-0.368231</td>\n",
       "      <td>NaN</td>\n",
       "      <td>NaN</td>\n",
       "    </tr>\n",
       "    <tr>\n",
       "      <th>basri</th>\n",
       "      <td>-0.839665</td>\n",
       "      <td>-0.231012</td>\n",
       "      <td>-1.265076</td>\n",
       "    </tr>\n",
       "    <tr>\n",
       "      <th>osman</th>\n",
       "      <td>NaN</td>\n",
       "      <td>-1.442844</td>\n",
       "      <td>NaN</td>\n",
       "    </tr>\n",
       "    <tr>\n",
       "      <th>mahmut</th>\n",
       "      <td>-0.333635</td>\n",
       "      <td>-0.924168</td>\n",
       "      <td>NaN</td>\n",
       "    </tr>\n",
       "  </tbody>\n",
       "</table>\n",
       "</div>"
      ],
      "text/plain": [
       "            maas       yas  calisma saati\n",
       "sabri  -0.368231       NaN            NaN\n",
       "basri  -0.839665 -0.231012      -1.265076\n",
       "osman        NaN -1.442844            NaN\n",
       "mahmut -0.333635 -0.924168            NaN"
      ]
     },
     "execution_count": 73,
     "metadata": {},
     "output_type": "execute_result"
    }
   ],
   "source": [
    "yeniDataFrame[booleanFrame]"
   ]
  },
  {
   "cell_type": "code",
   "execution_count": 74,
   "metadata": {},
   "outputs": [
    {
     "data": {
      "text/plain": [
       "sabri     0.683234\n",
       "basri    -0.231012\n",
       "osman    -1.442844\n",
       "mahmut   -0.924168\n",
       "Name: yas, dtype: float64"
      ]
     },
     "execution_count": 74,
     "metadata": {},
     "output_type": "execute_result"
    }
   ],
   "source": [
    "yeniDataFrame[\"yas\"]"
   ]
  },
  {
   "cell_type": "code",
   "execution_count": 76,
   "metadata": {},
   "outputs": [
    {
     "data": {
      "text/html": [
       "<div>\n",
       "<style scoped>\n",
       "    .dataframe tbody tr th:only-of-type {\n",
       "        vertical-align: middle;\n",
       "    }\n",
       "\n",
       "    .dataframe tbody tr th {\n",
       "        vertical-align: top;\n",
       "    }\n",
       "\n",
       "    .dataframe thead th {\n",
       "        text-align: right;\n",
       "    }\n",
       "</style>\n",
       "<table border=\"1\" class=\"dataframe\">\n",
       "  <thead>\n",
       "    <tr style=\"text-align: right;\">\n",
       "      <th></th>\n",
       "      <th>maas</th>\n",
       "      <th>yas</th>\n",
       "      <th>calisma saati</th>\n",
       "    </tr>\n",
       "  </thead>\n",
       "  <tbody>\n",
       "    <tr>\n",
       "      <th>sabri</th>\n",
       "      <td>-0.368231</td>\n",
       "      <td>0.683234</td>\n",
       "      <td>0.437005</td>\n",
       "    </tr>\n",
       "  </tbody>\n",
       "</table>\n",
       "</div>"
      ],
      "text/plain": [
       "           maas       yas  calisma saati\n",
       "sabri -0.368231  0.683234       0.437005"
      ]
     },
     "execution_count": 76,
     "metadata": {},
     "output_type": "execute_result"
    }
   ],
   "source": [
    "yeniDataFrame[yeniDataFrame[\"yas\"]>0]"
   ]
  },
  {
   "cell_type": "code",
   "execution_count": 78,
   "metadata": {},
   "outputs": [
    {
     "data": {
      "text/html": [
       "<div>\n",
       "<style scoped>\n",
       "    .dataframe tbody tr th:only-of-type {\n",
       "        vertical-align: middle;\n",
       "    }\n",
       "\n",
       "    .dataframe tbody tr th {\n",
       "        vertical-align: top;\n",
       "    }\n",
       "\n",
       "    .dataframe thead th {\n",
       "        text-align: right;\n",
       "    }\n",
       "</style>\n",
       "<table border=\"1\" class=\"dataframe\">\n",
       "  <thead>\n",
       "    <tr style=\"text-align: right;\">\n",
       "      <th></th>\n",
       "      <th>maas</th>\n",
       "      <th>yas</th>\n",
       "      <th>calisma saati</th>\n",
       "    </tr>\n",
       "  </thead>\n",
       "  <tbody>\n",
       "    <tr>\n",
       "      <th>sabri</th>\n",
       "      <td>-0.368231</td>\n",
       "      <td>0.683234</td>\n",
       "      <td>0.437005</td>\n",
       "    </tr>\n",
       "    <tr>\n",
       "      <th>osman</th>\n",
       "      <td>1.267795</td>\n",
       "      <td>-1.442844</td>\n",
       "      <td>1.283411</td>\n",
       "    </tr>\n",
       "    <tr>\n",
       "      <th>mahmut</th>\n",
       "      <td>-0.333635</td>\n",
       "      <td>-0.924168</td>\n",
       "      <td>0.645542</td>\n",
       "    </tr>\n",
       "  </tbody>\n",
       "</table>\n",
       "</div>"
      ],
      "text/plain": [
       "            maas       yas  calisma saati\n",
       "sabri  -0.368231  0.683234       0.437005\n",
       "osman   1.267795 -1.442844       1.283411\n",
       "mahmut -0.333635 -0.924168       0.645542"
      ]
     },
     "execution_count": 78,
     "metadata": {},
     "output_type": "execute_result"
    }
   ],
   "source": [
    "yeniDataFrame[yeniDataFrame[\"calisma saati\"]>0]"
   ]
  },
  {
   "cell_type": "code",
   "execution_count": 79,
   "metadata": {},
   "outputs": [
    {
     "data": {
      "text/html": [
       "<div>\n",
       "<style scoped>\n",
       "    .dataframe tbody tr th:only-of-type {\n",
       "        vertical-align: middle;\n",
       "    }\n",
       "\n",
       "    .dataframe tbody tr th {\n",
       "        vertical-align: top;\n",
       "    }\n",
       "\n",
       "    .dataframe thead th {\n",
       "        text-align: right;\n",
       "    }\n",
       "</style>\n",
       "<table border=\"1\" class=\"dataframe\">\n",
       "  <thead>\n",
       "    <tr style=\"text-align: right;\">\n",
       "      <th></th>\n",
       "      <th>maas</th>\n",
       "      <th>yas</th>\n",
       "      <th>calisma saati</th>\n",
       "    </tr>\n",
       "  </thead>\n",
       "  <tbody>\n",
       "    <tr>\n",
       "      <th>sabri</th>\n",
       "      <td>-0.368231</td>\n",
       "      <td>0.683234</td>\n",
       "      <td>0.437005</td>\n",
       "    </tr>\n",
       "    <tr>\n",
       "      <th>basri</th>\n",
       "      <td>-0.839665</td>\n",
       "      <td>-0.231012</td>\n",
       "      <td>-1.265076</td>\n",
       "    </tr>\n",
       "    <tr>\n",
       "      <th>osman</th>\n",
       "      <td>1.267795</td>\n",
       "      <td>-1.442844</td>\n",
       "      <td>1.283411</td>\n",
       "    </tr>\n",
       "    <tr>\n",
       "      <th>mahmut</th>\n",
       "      <td>-0.333635</td>\n",
       "      <td>-0.924168</td>\n",
       "      <td>0.645542</td>\n",
       "    </tr>\n",
       "  </tbody>\n",
       "</table>\n",
       "</div>"
      ],
      "text/plain": [
       "            maas       yas  calisma saati\n",
       "sabri  -0.368231  0.683234       0.437005\n",
       "basri  -0.839665 -0.231012      -1.265076\n",
       "osman   1.267795 -1.442844       1.283411\n",
       "mahmut -0.333635 -0.924168       0.645542"
      ]
     },
     "execution_count": 79,
     "metadata": {},
     "output_type": "execute_result"
    }
   ],
   "source": [
    "yeniDataFrame"
   ]
  },
  {
   "cell_type": "code",
   "execution_count": 81,
   "metadata": {},
   "outputs": [
    {
     "data": {
      "text/html": [
       "<div>\n",
       "<style scoped>\n",
       "    .dataframe tbody tr th:only-of-type {\n",
       "        vertical-align: middle;\n",
       "    }\n",
       "\n",
       "    .dataframe tbody tr th {\n",
       "        vertical-align: top;\n",
       "    }\n",
       "\n",
       "    .dataframe thead th {\n",
       "        text-align: right;\n",
       "    }\n",
       "</style>\n",
       "<table border=\"1\" class=\"dataframe\">\n",
       "  <thead>\n",
       "    <tr style=\"text-align: right;\">\n",
       "      <th></th>\n",
       "      <th>index</th>\n",
       "      <th>maas</th>\n",
       "      <th>yas</th>\n",
       "      <th>calisma saati</th>\n",
       "    </tr>\n",
       "  </thead>\n",
       "  <tbody>\n",
       "    <tr>\n",
       "      <th>0</th>\n",
       "      <td>sabri</td>\n",
       "      <td>-0.368231</td>\n",
       "      <td>0.683234</td>\n",
       "      <td>0.437005</td>\n",
       "    </tr>\n",
       "    <tr>\n",
       "      <th>1</th>\n",
       "      <td>basri</td>\n",
       "      <td>-0.839665</td>\n",
       "      <td>-0.231012</td>\n",
       "      <td>-1.265076</td>\n",
       "    </tr>\n",
       "    <tr>\n",
       "      <th>2</th>\n",
       "      <td>osman</td>\n",
       "      <td>1.267795</td>\n",
       "      <td>-1.442844</td>\n",
       "      <td>1.283411</td>\n",
       "    </tr>\n",
       "    <tr>\n",
       "      <th>3</th>\n",
       "      <td>mahmut</td>\n",
       "      <td>-0.333635</td>\n",
       "      <td>-0.924168</td>\n",
       "      <td>0.645542</td>\n",
       "    </tr>\n",
       "  </tbody>\n",
       "</table>\n",
       "</div>"
      ],
      "text/plain": [
       "    index      maas       yas  calisma saati\n",
       "0   sabri -0.368231  0.683234       0.437005\n",
       "1   basri -0.839665 -0.231012      -1.265076\n",
       "2   osman  1.267795 -1.442844       1.283411\n",
       "3  mahmut -0.333635 -0.924168       0.645542"
      ]
     },
     "execution_count": 81,
     "metadata": {},
     "output_type": "execute_result"
    }
   ],
   "source": [
    "yeniDataFrame.reset_index()"
   ]
  },
  {
   "cell_type": "code",
   "execution_count": 82,
   "metadata": {},
   "outputs": [
    {
     "data": {
      "text/html": [
       "<div>\n",
       "<style scoped>\n",
       "    .dataframe tbody tr th:only-of-type {\n",
       "        vertical-align: middle;\n",
       "    }\n",
       "\n",
       "    .dataframe tbody tr th {\n",
       "        vertical-align: top;\n",
       "    }\n",
       "\n",
       "    .dataframe thead th {\n",
       "        text-align: right;\n",
       "    }\n",
       "</style>\n",
       "<table border=\"1\" class=\"dataframe\">\n",
       "  <thead>\n",
       "    <tr style=\"text-align: right;\">\n",
       "      <th></th>\n",
       "      <th>maas</th>\n",
       "      <th>yas</th>\n",
       "      <th>calisma saati</th>\n",
       "    </tr>\n",
       "  </thead>\n",
       "  <tbody>\n",
       "    <tr>\n",
       "      <th>sabri</th>\n",
       "      <td>-0.368231</td>\n",
       "      <td>0.683234</td>\n",
       "      <td>0.437005</td>\n",
       "    </tr>\n",
       "    <tr>\n",
       "      <th>basri</th>\n",
       "      <td>-0.839665</td>\n",
       "      <td>-0.231012</td>\n",
       "      <td>-1.265076</td>\n",
       "    </tr>\n",
       "    <tr>\n",
       "      <th>osman</th>\n",
       "      <td>1.267795</td>\n",
       "      <td>-1.442844</td>\n",
       "      <td>1.283411</td>\n",
       "    </tr>\n",
       "    <tr>\n",
       "      <th>mahmut</th>\n",
       "      <td>-0.333635</td>\n",
       "      <td>-0.924168</td>\n",
       "      <td>0.645542</td>\n",
       "    </tr>\n",
       "  </tbody>\n",
       "</table>\n",
       "</div>"
      ],
      "text/plain": [
       "            maas       yas  calisma saati\n",
       "sabri  -0.368231  0.683234       0.437005\n",
       "basri  -0.839665 -0.231012      -1.265076\n",
       "osman   1.267795 -1.442844       1.283411\n",
       "mahmut -0.333635 -0.924168       0.645542"
      ]
     },
     "execution_count": 82,
     "metadata": {},
     "output_type": "execute_result"
    }
   ],
   "source": [
    "yeniDataFrame"
   ]
  },
  {
   "cell_type": "code",
   "execution_count": 83,
   "metadata": {},
   "outputs": [],
   "source": [
    "yeniDataFrame.reset_index(inplace=True)"
   ]
  },
  {
   "cell_type": "code",
   "execution_count": 84,
   "metadata": {},
   "outputs": [
    {
     "data": {
      "text/html": [
       "<div>\n",
       "<style scoped>\n",
       "    .dataframe tbody tr th:only-of-type {\n",
       "        vertical-align: middle;\n",
       "    }\n",
       "\n",
       "    .dataframe tbody tr th {\n",
       "        vertical-align: top;\n",
       "    }\n",
       "\n",
       "    .dataframe thead th {\n",
       "        text-align: right;\n",
       "    }\n",
       "</style>\n",
       "<table border=\"1\" class=\"dataframe\">\n",
       "  <thead>\n",
       "    <tr style=\"text-align: right;\">\n",
       "      <th></th>\n",
       "      <th>index</th>\n",
       "      <th>maas</th>\n",
       "      <th>yas</th>\n",
       "      <th>calisma saati</th>\n",
       "    </tr>\n",
       "  </thead>\n",
       "  <tbody>\n",
       "    <tr>\n",
       "      <th>0</th>\n",
       "      <td>sabri</td>\n",
       "      <td>-0.368231</td>\n",
       "      <td>0.683234</td>\n",
       "      <td>0.437005</td>\n",
       "    </tr>\n",
       "    <tr>\n",
       "      <th>1</th>\n",
       "      <td>basri</td>\n",
       "      <td>-0.839665</td>\n",
       "      <td>-0.231012</td>\n",
       "      <td>-1.265076</td>\n",
       "    </tr>\n",
       "    <tr>\n",
       "      <th>2</th>\n",
       "      <td>osman</td>\n",
       "      <td>1.267795</td>\n",
       "      <td>-1.442844</td>\n",
       "      <td>1.283411</td>\n",
       "    </tr>\n",
       "    <tr>\n",
       "      <th>3</th>\n",
       "      <td>mahmut</td>\n",
       "      <td>-0.333635</td>\n",
       "      <td>-0.924168</td>\n",
       "      <td>0.645542</td>\n",
       "    </tr>\n",
       "  </tbody>\n",
       "</table>\n",
       "</div>"
      ],
      "text/plain": [
       "    index      maas       yas  calisma saati\n",
       "0   sabri -0.368231  0.683234       0.437005\n",
       "1   basri -0.839665 -0.231012      -1.265076\n",
       "2   osman  1.267795 -1.442844       1.283411\n",
       "3  mahmut -0.333635 -0.924168       0.645542"
      ]
     },
     "execution_count": 84,
     "metadata": {},
     "output_type": "execute_result"
    }
   ],
   "source": [
    "yeniDataFrame"
   ]
  },
  {
   "cell_type": "code",
   "execution_count": 85,
   "metadata": {},
   "outputs": [],
   "source": [
    "yeniIndexListesi=[\"sab\",\"bas\",\"osm\",\"mah\"]"
   ]
  },
  {
   "cell_type": "code",
   "execution_count": 86,
   "metadata": {},
   "outputs": [
    {
     "data": {
      "text/plain": [
       "['sab', 'bas', 'osm', 'mah']"
      ]
     },
     "execution_count": 86,
     "metadata": {},
     "output_type": "execute_result"
    }
   ],
   "source": [
    "yeniIndexListesi"
   ]
  },
  {
   "cell_type": "code",
   "execution_count": 87,
   "metadata": {},
   "outputs": [],
   "source": [
    "yeniDataFrame[\"yeni Index\"]=yeniIndexListesi"
   ]
  },
  {
   "cell_type": "code",
   "execution_count": 88,
   "metadata": {},
   "outputs": [
    {
     "data": {
      "text/html": [
       "<div>\n",
       "<style scoped>\n",
       "    .dataframe tbody tr th:only-of-type {\n",
       "        vertical-align: middle;\n",
       "    }\n",
       "\n",
       "    .dataframe tbody tr th {\n",
       "        vertical-align: top;\n",
       "    }\n",
       "\n",
       "    .dataframe thead th {\n",
       "        text-align: right;\n",
       "    }\n",
       "</style>\n",
       "<table border=\"1\" class=\"dataframe\">\n",
       "  <thead>\n",
       "    <tr style=\"text-align: right;\">\n",
       "      <th></th>\n",
       "      <th>index</th>\n",
       "      <th>maas</th>\n",
       "      <th>yas</th>\n",
       "      <th>calisma saati</th>\n",
       "      <th>yeni Index</th>\n",
       "    </tr>\n",
       "  </thead>\n",
       "  <tbody>\n",
       "    <tr>\n",
       "      <th>0</th>\n",
       "      <td>sabri</td>\n",
       "      <td>-0.368231</td>\n",
       "      <td>0.683234</td>\n",
       "      <td>0.437005</td>\n",
       "      <td>sab</td>\n",
       "    </tr>\n",
       "    <tr>\n",
       "      <th>1</th>\n",
       "      <td>basri</td>\n",
       "      <td>-0.839665</td>\n",
       "      <td>-0.231012</td>\n",
       "      <td>-1.265076</td>\n",
       "      <td>bas</td>\n",
       "    </tr>\n",
       "    <tr>\n",
       "      <th>2</th>\n",
       "      <td>osman</td>\n",
       "      <td>1.267795</td>\n",
       "      <td>-1.442844</td>\n",
       "      <td>1.283411</td>\n",
       "      <td>osm</td>\n",
       "    </tr>\n",
       "    <tr>\n",
       "      <th>3</th>\n",
       "      <td>mahmut</td>\n",
       "      <td>-0.333635</td>\n",
       "      <td>-0.924168</td>\n",
       "      <td>0.645542</td>\n",
       "      <td>mah</td>\n",
       "    </tr>\n",
       "  </tbody>\n",
       "</table>\n",
       "</div>"
      ],
      "text/plain": [
       "    index      maas       yas  calisma saati yeni Index\n",
       "0   sabri -0.368231  0.683234       0.437005        sab\n",
       "1   basri -0.839665 -0.231012      -1.265076        bas\n",
       "2   osman  1.267795 -1.442844       1.283411        osm\n",
       "3  mahmut -0.333635 -0.924168       0.645542        mah"
      ]
     },
     "execution_count": 88,
     "metadata": {},
     "output_type": "execute_result"
    }
   ],
   "source": [
    "yeniDataFrame"
   ]
  },
  {
   "cell_type": "code",
   "execution_count": 89,
   "metadata": {},
   "outputs": [
    {
     "data": {
      "text/html": [
       "<div>\n",
       "<style scoped>\n",
       "    .dataframe tbody tr th:only-of-type {\n",
       "        vertical-align: middle;\n",
       "    }\n",
       "\n",
       "    .dataframe tbody tr th {\n",
       "        vertical-align: top;\n",
       "    }\n",
       "\n",
       "    .dataframe thead th {\n",
       "        text-align: right;\n",
       "    }\n",
       "</style>\n",
       "<table border=\"1\" class=\"dataframe\">\n",
       "  <thead>\n",
       "    <tr style=\"text-align: right;\">\n",
       "      <th></th>\n",
       "      <th>index</th>\n",
       "      <th>maas</th>\n",
       "      <th>yas</th>\n",
       "      <th>calisma saati</th>\n",
       "    </tr>\n",
       "    <tr>\n",
       "      <th>yeni Index</th>\n",
       "      <th></th>\n",
       "      <th></th>\n",
       "      <th></th>\n",
       "      <th></th>\n",
       "    </tr>\n",
       "  </thead>\n",
       "  <tbody>\n",
       "    <tr>\n",
       "      <th>sab</th>\n",
       "      <td>sabri</td>\n",
       "      <td>-0.368231</td>\n",
       "      <td>0.683234</td>\n",
       "      <td>0.437005</td>\n",
       "    </tr>\n",
       "    <tr>\n",
       "      <th>bas</th>\n",
       "      <td>basri</td>\n",
       "      <td>-0.839665</td>\n",
       "      <td>-0.231012</td>\n",
       "      <td>-1.265076</td>\n",
       "    </tr>\n",
       "    <tr>\n",
       "      <th>osm</th>\n",
       "      <td>osman</td>\n",
       "      <td>1.267795</td>\n",
       "      <td>-1.442844</td>\n",
       "      <td>1.283411</td>\n",
       "    </tr>\n",
       "    <tr>\n",
       "      <th>mah</th>\n",
       "      <td>mahmut</td>\n",
       "      <td>-0.333635</td>\n",
       "      <td>-0.924168</td>\n",
       "      <td>0.645542</td>\n",
       "    </tr>\n",
       "  </tbody>\n",
       "</table>\n",
       "</div>"
      ],
      "text/plain": [
       "             index      maas       yas  calisma saati\n",
       "yeni Index                                           \n",
       "sab          sabri -0.368231  0.683234       0.437005\n",
       "bas          basri -0.839665 -0.231012      -1.265076\n",
       "osm          osman  1.267795 -1.442844       1.283411\n",
       "mah         mahmut -0.333635 -0.924168       0.645542"
      ]
     },
     "execution_count": 89,
     "metadata": {},
     "output_type": "execute_result"
    }
   ],
   "source": [
    "yeniDataFrame.set_index(\"yeni Index\")"
   ]
  },
  {
   "cell_type": "code",
   "execution_count": 91,
   "metadata": {},
   "outputs": [],
   "source": [
    "yeniDataFrame.set_index(\"yeni Index\",inplace=True)"
   ]
  },
  {
   "cell_type": "code",
   "execution_count": 92,
   "metadata": {},
   "outputs": [
    {
     "data": {
      "text/html": [
       "<div>\n",
       "<style scoped>\n",
       "    .dataframe tbody tr th:only-of-type {\n",
       "        vertical-align: middle;\n",
       "    }\n",
       "\n",
       "    .dataframe tbody tr th {\n",
       "        vertical-align: top;\n",
       "    }\n",
       "\n",
       "    .dataframe thead th {\n",
       "        text-align: right;\n",
       "    }\n",
       "</style>\n",
       "<table border=\"1\" class=\"dataframe\">\n",
       "  <thead>\n",
       "    <tr style=\"text-align: right;\">\n",
       "      <th></th>\n",
       "      <th>index</th>\n",
       "      <th>maas</th>\n",
       "      <th>yas</th>\n",
       "      <th>calisma saati</th>\n",
       "    </tr>\n",
       "    <tr>\n",
       "      <th>yeni Index</th>\n",
       "      <th></th>\n",
       "      <th></th>\n",
       "      <th></th>\n",
       "      <th></th>\n",
       "    </tr>\n",
       "  </thead>\n",
       "  <tbody>\n",
       "    <tr>\n",
       "      <th>sab</th>\n",
       "      <td>sabri</td>\n",
       "      <td>-0.368231</td>\n",
       "      <td>0.683234</td>\n",
       "      <td>0.437005</td>\n",
       "    </tr>\n",
       "    <tr>\n",
       "      <th>bas</th>\n",
       "      <td>basri</td>\n",
       "      <td>-0.839665</td>\n",
       "      <td>-0.231012</td>\n",
       "      <td>-1.265076</td>\n",
       "    </tr>\n",
       "    <tr>\n",
       "      <th>osm</th>\n",
       "      <td>osman</td>\n",
       "      <td>1.267795</td>\n",
       "      <td>-1.442844</td>\n",
       "      <td>1.283411</td>\n",
       "    </tr>\n",
       "    <tr>\n",
       "      <th>mah</th>\n",
       "      <td>mahmut</td>\n",
       "      <td>-0.333635</td>\n",
       "      <td>-0.924168</td>\n",
       "      <td>0.645542</td>\n",
       "    </tr>\n",
       "  </tbody>\n",
       "</table>\n",
       "</div>"
      ],
      "text/plain": [
       "             index      maas       yas  calisma saati\n",
       "yeni Index                                           \n",
       "sab          sabri -0.368231  0.683234       0.437005\n",
       "bas          basri -0.839665 -0.231012      -1.265076\n",
       "osm          osman  1.267795 -1.442844       1.283411\n",
       "mah         mahmut -0.333635 -0.924168       0.645542"
      ]
     },
     "execution_count": 92,
     "metadata": {},
     "output_type": "execute_result"
    }
   ],
   "source": [
    "yeniDataFrame"
   ]
  },
  {
   "cell_type": "code",
   "execution_count": 93,
   "metadata": {},
   "outputs": [
    {
     "data": {
      "text/plain": [
       "index               sabri\n",
       "maas            -0.368231\n",
       "yas              0.683234\n",
       "calisma saati    0.437005\n",
       "Name: sab, dtype: object"
      ]
     },
     "execution_count": 93,
     "metadata": {},
     "output_type": "execute_result"
    }
   ],
   "source": [
    "yeniDataFrame.loc[\"sab\"]"
   ]
  },
  {
   "cell_type": "code",
   "execution_count": 94,
   "metadata": {},
   "outputs": [],
   "source": [
    "ilkIndeksler = [\"Simson\",\"Simson\",\"Simson\",\"South Park\",\"South Park\",\"South Park\"]"
   ]
  },
  {
   "cell_type": "code",
   "execution_count": 102,
   "metadata": {},
   "outputs": [],
   "source": [
    "icIndeksler = [\"Homer\",\"Bart\",\"Marge\",\"Cartman\",\"Kenny\",\"Kyle\"]"
   ]
  },
  {
   "cell_type": "code",
   "execution_count": 103,
   "metadata": {},
   "outputs": [],
   "source": [
    "birlesmisIndex = list(zip(ilkIndeksler,icIndeksler))"
   ]
  },
  {
   "cell_type": "code",
   "execution_count": 104,
   "metadata": {},
   "outputs": [
    {
     "data": {
      "text/plain": [
       "[('Simson', 'Homer'),\n",
       " ('Simson', 'Bart'),\n",
       " ('Simson', 'Marge'),\n",
       " ('South Park', 'Cartman'),\n",
       " ('South Park', 'Kenny'),\n",
       " ('South Park', 'Kyle')]"
      ]
     },
     "execution_count": 104,
     "metadata": {},
     "output_type": "execute_result"
    }
   ],
   "source": [
    "birlesmisIndex"
   ]
  },
  {
   "cell_type": "code",
   "execution_count": 105,
   "metadata": {},
   "outputs": [],
   "source": [
    "birlesmisIndex=pd.MultiIndex.from_tuples(birlesmisIndex)"
   ]
  },
  {
   "cell_type": "code",
   "execution_count": 106,
   "metadata": {},
   "outputs": [
    {
     "data": {
      "text/plain": [
       "pandas.core.indexes.multi.MultiIndex"
      ]
     },
     "execution_count": 106,
     "metadata": {},
     "output_type": "execute_result"
    }
   ],
   "source": [
    "type(birlesmisIndex)"
   ]
  },
  {
   "cell_type": "code",
   "execution_count": 107,
   "metadata": {},
   "outputs": [],
   "source": [
    "benimCizgiFilmlistem=[[40,\"a\"],[10,\"b\"],[30,\"c\"],[9,\"d\"],[10,\"e\"],[11,\"f\"]]"
   ]
  },
  {
   "cell_type": "code",
   "execution_count": 108,
   "metadata": {},
   "outputs": [],
   "source": [
    "cizgiFilmNumpyDizisi=np.array(benimCizgiFilmlistem)"
   ]
  },
  {
   "cell_type": "code",
   "execution_count": 109,
   "metadata": {},
   "outputs": [],
   "source": [
    "cizgiFilmDataframe=pd.DataFrame(cizgiFilmNumpyDizisi,index=birlesmisIndex, columns=[\"yas\",\"Meslek\"])"
   ]
  },
  {
   "cell_type": "code",
   "execution_count": 110,
   "metadata": {},
   "outputs": [
    {
     "data": {
      "text/html": [
       "<div>\n",
       "<style scoped>\n",
       "    .dataframe tbody tr th:only-of-type {\n",
       "        vertical-align: middle;\n",
       "    }\n",
       "\n",
       "    .dataframe tbody tr th {\n",
       "        vertical-align: top;\n",
       "    }\n",
       "\n",
       "    .dataframe thead th {\n",
       "        text-align: right;\n",
       "    }\n",
       "</style>\n",
       "<table border=\"1\" class=\"dataframe\">\n",
       "  <thead>\n",
       "    <tr style=\"text-align: right;\">\n",
       "      <th></th>\n",
       "      <th></th>\n",
       "      <th>yas</th>\n",
       "      <th>Meslek</th>\n",
       "    </tr>\n",
       "  </thead>\n",
       "  <tbody>\n",
       "    <tr>\n",
       "      <th rowspan=\"3\" valign=\"top\">Simson</th>\n",
       "      <th>Homer</th>\n",
       "      <td>40</td>\n",
       "      <td>a</td>\n",
       "    </tr>\n",
       "    <tr>\n",
       "      <th>Bart</th>\n",
       "      <td>10</td>\n",
       "      <td>b</td>\n",
       "    </tr>\n",
       "    <tr>\n",
       "      <th>Marge</th>\n",
       "      <td>30</td>\n",
       "      <td>c</td>\n",
       "    </tr>\n",
       "    <tr>\n",
       "      <th rowspan=\"3\" valign=\"top\">South Park</th>\n",
       "      <th>Cartman</th>\n",
       "      <td>9</td>\n",
       "      <td>d</td>\n",
       "    </tr>\n",
       "    <tr>\n",
       "      <th>Kenny</th>\n",
       "      <td>10</td>\n",
       "      <td>e</td>\n",
       "    </tr>\n",
       "    <tr>\n",
       "      <th>Kyle</th>\n",
       "      <td>11</td>\n",
       "      <td>f</td>\n",
       "    </tr>\n",
       "  </tbody>\n",
       "</table>\n",
       "</div>"
      ],
      "text/plain": [
       "                   yas Meslek\n",
       "Simson     Homer    40      a\n",
       "           Bart     10      b\n",
       "           Marge    30      c\n",
       "South Park Cartman   9      d\n",
       "           Kenny    10      e\n",
       "           Kyle     11      f"
      ]
     },
     "execution_count": 110,
     "metadata": {},
     "output_type": "execute_result"
    }
   ],
   "source": [
    "cizgiFilmDataframe"
   ]
  },
  {
   "cell_type": "code",
   "execution_count": 111,
   "metadata": {},
   "outputs": [
    {
     "data": {
      "text/html": [
       "<div>\n",
       "<style scoped>\n",
       "    .dataframe tbody tr th:only-of-type {\n",
       "        vertical-align: middle;\n",
       "    }\n",
       "\n",
       "    .dataframe tbody tr th {\n",
       "        vertical-align: top;\n",
       "    }\n",
       "\n",
       "    .dataframe thead th {\n",
       "        text-align: right;\n",
       "    }\n",
       "</style>\n",
       "<table border=\"1\" class=\"dataframe\">\n",
       "  <thead>\n",
       "    <tr style=\"text-align: right;\">\n",
       "      <th></th>\n",
       "      <th>yas</th>\n",
       "      <th>Meslek</th>\n",
       "    </tr>\n",
       "  </thead>\n",
       "  <tbody>\n",
       "    <tr>\n",
       "      <th>Homer</th>\n",
       "      <td>40</td>\n",
       "      <td>a</td>\n",
       "    </tr>\n",
       "    <tr>\n",
       "      <th>Bart</th>\n",
       "      <td>10</td>\n",
       "      <td>b</td>\n",
       "    </tr>\n",
       "    <tr>\n",
       "      <th>Marge</th>\n",
       "      <td>30</td>\n",
       "      <td>c</td>\n",
       "    </tr>\n",
       "  </tbody>\n",
       "</table>\n",
       "</div>"
      ],
      "text/plain": [
       "      yas Meslek\n",
       "Homer  40      a\n",
       "Bart   10      b\n",
       "Marge  30      c"
      ]
     },
     "execution_count": 111,
     "metadata": {},
     "output_type": "execute_result"
    }
   ],
   "source": [
    "cizgiFilmDataframe.loc[\"Simson\"]"
   ]
  },
  {
   "cell_type": "code",
   "execution_count": 112,
   "metadata": {},
   "outputs": [
    {
     "data": {
      "text/html": [
       "<div>\n",
       "<style scoped>\n",
       "    .dataframe tbody tr th:only-of-type {\n",
       "        vertical-align: middle;\n",
       "    }\n",
       "\n",
       "    .dataframe tbody tr th {\n",
       "        vertical-align: top;\n",
       "    }\n",
       "\n",
       "    .dataframe thead th {\n",
       "        text-align: right;\n",
       "    }\n",
       "</style>\n",
       "<table border=\"1\" class=\"dataframe\">\n",
       "  <thead>\n",
       "    <tr style=\"text-align: right;\">\n",
       "      <th></th>\n",
       "      <th>yas</th>\n",
       "      <th>Meslek</th>\n",
       "    </tr>\n",
       "  </thead>\n",
       "  <tbody>\n",
       "    <tr>\n",
       "      <th>Cartman</th>\n",
       "      <td>9</td>\n",
       "      <td>d</td>\n",
       "    </tr>\n",
       "    <tr>\n",
       "      <th>Kenny</th>\n",
       "      <td>10</td>\n",
       "      <td>e</td>\n",
       "    </tr>\n",
       "    <tr>\n",
       "      <th>Kyle</th>\n",
       "      <td>11</td>\n",
       "      <td>f</td>\n",
       "    </tr>\n",
       "  </tbody>\n",
       "</table>\n",
       "</div>"
      ],
      "text/plain": [
       "        yas Meslek\n",
       "Cartman   9      d\n",
       "Kenny    10      e\n",
       "Kyle     11      f"
      ]
     },
     "execution_count": 112,
     "metadata": {},
     "output_type": "execute_result"
    }
   ],
   "source": [
    "cizgiFilmDataframe.loc[\"South Park\"]"
   ]
  },
  {
   "cell_type": "code",
   "execution_count": 113,
   "metadata": {},
   "outputs": [
    {
     "data": {
      "text/plain": [
       "yas       10\n",
       "Meslek     e\n",
       "Name: Kenny, dtype: object"
      ]
     },
     "execution_count": 113,
     "metadata": {},
     "output_type": "execute_result"
    }
   ],
   "source": [
    "cizgiFilmDataframe.loc[\"South Park\"].loc[\"Kenny\"]"
   ]
  },
  {
   "cell_type": "code",
   "execution_count": 114,
   "metadata": {},
   "outputs": [
    {
     "data": {
      "text/html": [
       "<div>\n",
       "<style scoped>\n",
       "    .dataframe tbody tr th:only-of-type {\n",
       "        vertical-align: middle;\n",
       "    }\n",
       "\n",
       "    .dataframe tbody tr th {\n",
       "        vertical-align: top;\n",
       "    }\n",
       "\n",
       "    .dataframe thead th {\n",
       "        text-align: right;\n",
       "    }\n",
       "</style>\n",
       "<table border=\"1\" class=\"dataframe\">\n",
       "  <thead>\n",
       "    <tr style=\"text-align: right;\">\n",
       "      <th></th>\n",
       "      <th></th>\n",
       "      <th>yas</th>\n",
       "      <th>Meslek</th>\n",
       "    </tr>\n",
       "  </thead>\n",
       "  <tbody>\n",
       "    <tr>\n",
       "      <th rowspan=\"3\" valign=\"top\">Simson</th>\n",
       "      <th>Homer</th>\n",
       "      <td>40</td>\n",
       "      <td>a</td>\n",
       "    </tr>\n",
       "    <tr>\n",
       "      <th>Bart</th>\n",
       "      <td>10</td>\n",
       "      <td>b</td>\n",
       "    </tr>\n",
       "    <tr>\n",
       "      <th>Marge</th>\n",
       "      <td>30</td>\n",
       "      <td>c</td>\n",
       "    </tr>\n",
       "    <tr>\n",
       "      <th rowspan=\"3\" valign=\"top\">South Park</th>\n",
       "      <th>Cartman</th>\n",
       "      <td>9</td>\n",
       "      <td>d</td>\n",
       "    </tr>\n",
       "    <tr>\n",
       "      <th>Kenny</th>\n",
       "      <td>10</td>\n",
       "      <td>e</td>\n",
       "    </tr>\n",
       "    <tr>\n",
       "      <th>Kyle</th>\n",
       "      <td>11</td>\n",
       "      <td>f</td>\n",
       "    </tr>\n",
       "  </tbody>\n",
       "</table>\n",
       "</div>"
      ],
      "text/plain": [
       "                   yas Meslek\n",
       "Simson     Homer    40      a\n",
       "           Bart     10      b\n",
       "           Marge    30      c\n",
       "South Park Cartman   9      d\n",
       "           Kenny    10      e\n",
       "           Kyle     11      f"
      ]
     },
     "execution_count": 114,
     "metadata": {},
     "output_type": "execute_result"
    }
   ],
   "source": [
    "cizgiFilmDataframe"
   ]
  },
  {
   "cell_type": "code",
   "execution_count": 115,
   "metadata": {},
   "outputs": [],
   "source": [
    "cizgiFilmDataframe.index.names=[\"Film adi\",\"Isim\"]"
   ]
  },
  {
   "cell_type": "code",
   "execution_count": 116,
   "metadata": {},
   "outputs": [
    {
     "data": {
      "text/html": [
       "<div>\n",
       "<style scoped>\n",
       "    .dataframe tbody tr th:only-of-type {\n",
       "        vertical-align: middle;\n",
       "    }\n",
       "\n",
       "    .dataframe tbody tr th {\n",
       "        vertical-align: top;\n",
       "    }\n",
       "\n",
       "    .dataframe thead th {\n",
       "        text-align: right;\n",
       "    }\n",
       "</style>\n",
       "<table border=\"1\" class=\"dataframe\">\n",
       "  <thead>\n",
       "    <tr style=\"text-align: right;\">\n",
       "      <th></th>\n",
       "      <th></th>\n",
       "      <th>yas</th>\n",
       "      <th>Meslek</th>\n",
       "    </tr>\n",
       "    <tr>\n",
       "      <th>Film adi</th>\n",
       "      <th>Isim</th>\n",
       "      <th></th>\n",
       "      <th></th>\n",
       "    </tr>\n",
       "  </thead>\n",
       "  <tbody>\n",
       "    <tr>\n",
       "      <th rowspan=\"3\" valign=\"top\">Simson</th>\n",
       "      <th>Homer</th>\n",
       "      <td>40</td>\n",
       "      <td>a</td>\n",
       "    </tr>\n",
       "    <tr>\n",
       "      <th>Bart</th>\n",
       "      <td>10</td>\n",
       "      <td>b</td>\n",
       "    </tr>\n",
       "    <tr>\n",
       "      <th>Marge</th>\n",
       "      <td>30</td>\n",
       "      <td>c</td>\n",
       "    </tr>\n",
       "    <tr>\n",
       "      <th rowspan=\"3\" valign=\"top\">South Park</th>\n",
       "      <th>Cartman</th>\n",
       "      <td>9</td>\n",
       "      <td>d</td>\n",
       "    </tr>\n",
       "    <tr>\n",
       "      <th>Kenny</th>\n",
       "      <td>10</td>\n",
       "      <td>e</td>\n",
       "    </tr>\n",
       "    <tr>\n",
       "      <th>Kyle</th>\n",
       "      <td>11</td>\n",
       "      <td>f</td>\n",
       "    </tr>\n",
       "  </tbody>\n",
       "</table>\n",
       "</div>"
      ],
      "text/plain": [
       "                   yas Meslek\n",
       "Film adi   Isim              \n",
       "Simson     Homer    40      a\n",
       "           Bart     10      b\n",
       "           Marge    30      c\n",
       "South Park Cartman   9      d\n",
       "           Kenny    10      e\n",
       "           Kyle     11      f"
      ]
     },
     "execution_count": 116,
     "metadata": {},
     "output_type": "execute_result"
    }
   ],
   "source": [
    "cizgiFilmDataframe"
   ]
  }
 ],
 "metadata": {
  "kernelspec": {
   "display_name": "Python 3.10.5 64-bit",
   "language": "python",
   "name": "python3"
  },
  "language_info": {
   "codemirror_mode": {
    "name": "ipython",
    "version": 3
   },
   "file_extension": ".py",
   "mimetype": "text/x-python",
   "name": "python",
   "nbconvert_exporter": "python",
   "pygments_lexer": "ipython3",
   "version": "3.10.5"
  },
  "orig_nbformat": 4,
  "vscode": {
   "interpreter": {
    "hash": "4785a242b6d10e567349673141bf2f46488d9d0068a42aa820d15ab11c1ddd75"
   }
  }
 },
 "nbformat": 4,
 "nbformat_minor": 2
}
