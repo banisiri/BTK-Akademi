{
 "cells": [
  {
   "cell_type": "code",
   "execution_count": 1,
   "metadata": {},
   "outputs": [
    {
     "name": "stdout",
     "output_type": "stream",
     "text": [
      "evet\n"
     ]
    }
   ],
   "source": [
    "if 3>1:\n",
    "    print(\"evet\")"
   ]
  },
  {
   "cell_type": "code",
   "execution_count": 3,
   "metadata": {},
   "outputs": [],
   "source": [
    "if 3<1:\n",
    "    print(\"evet\")"
   ]
  },
  {
   "cell_type": "code",
   "execution_count": 4,
   "metadata": {},
   "outputs": [
    {
     "name": "stdout",
     "output_type": "stream",
     "text": [
      "if kosuluna grmedi\n"
     ]
    }
   ],
   "source": [
    "if 3>4:\n",
    "    print(\"3 4 den buyuk\")\n",
    "print(\"if kosuluna grmedi\")"
   ]
  },
  {
   "cell_type": "code",
   "execution_count": 5,
   "metadata": {},
   "outputs": [
    {
     "name": "stdout",
     "output_type": "stream",
     "text": [
      "x y den buyuk\n"
     ]
    }
   ],
   "source": [
    "x=4\n",
    "y=2\n",
    "if x>y:\n",
    "    print(\"x y den buyuk\")"
   ]
  },
  {
   "cell_type": "code",
   "execution_count": 6,
   "metadata": {},
   "outputs": [
    {
     "name": "stdout",
     "output_type": "stream",
     "text": [
      "x y den kucuk\n"
     ]
    }
   ],
   "source": [
    "x=4\n",
    "y=5\n",
    "if x>y:\n",
    "    print(\"x y den buyuk\")\n",
    "elif x<y:\n",
    "    print(\"x y den kucuk\")"
   ]
  },
  {
   "cell_type": "code",
   "execution_count": 7,
   "metadata": {},
   "outputs": [
    {
     "name": "stdout",
     "output_type": "stream",
     "text": [
      "esit\n"
     ]
    }
   ],
   "source": [
    "x=4\n",
    "y=4\n",
    "if x>y:\n",
    "    print(\"x y den buyuk\")\n",
    "elif x<y:\n",
    "    print(\"x y den kucuk\")\n",
    "else:\n",
    "    print(\"esit\")"
   ]
  },
  {
   "cell_type": "code",
   "execution_count": 13,
   "metadata": {},
   "outputs": [
    {
     "name": "stdout",
     "output_type": "stream",
     "text": [
      "x y esit\n"
     ]
    }
   ],
   "source": [
    "x=input(\"x degeri girin\")\n",
    "y=input(\"y degeri girin\")\n",
    "if x>y:\n",
    "    print(\"x y den buyuk\")\n",
    "elif x<y:\n",
    "    print(\"x y den kucuk\")\n",
    "else:\n",
    "    print(\"x y esit\")"
   ]
  },
  {
   "cell_type": "code",
   "execution_count": 17,
   "metadata": {},
   "outputs": [
    {
     "name": "stdout",
     "output_type": "stream",
     "text": [
      "Bu kim aga\n"
     ]
    }
   ],
   "source": [
    "Kahraman=input(\"Kahraman secin:\")\n",
    "if Kahraman==\"Batman\":\n",
    "    print(\"Batmani Sectiniz\")\n",
    "elif Kahraman==\"Superman\":\n",
    "    print(\"keske batmen olsaydı\")\n",
    "elif Kahraman==\"Ironman\":\n",
    "    print(\"O kim\")\n",
    "else:\n",
    "    print(\"Bu kim aga\")"
   ]
  },
  {
   "cell_type": "code",
   "execution_count": 24,
   "metadata": {},
   "outputs": [
    {
     "name": "stdout",
     "output_type": "stream",
     "text": [
      "2\n"
     ]
    }
   ],
   "source": [
    "a=1\n",
    "b=2\n",
    "c=2\n",
    "if a<b and b<c:\n",
    "    print(\"1\")\n",
    "elif a<b and b==c:\n",
    "    print(\"2\")\n",
    "else:\n",
    "    print(\"else\")"
   ]
  },
  {
   "cell_type": "code",
   "execution_count": 25,
   "metadata": {},
   "outputs": [
    {
     "name": "stdout",
     "output_type": "stream",
     "text": [
      "yasiyo\n"
     ]
    }
   ],
   "source": [
    "KarakterCanli=True\n",
    "if KarakterCanli==True:\n",
    "    print(\"yasiyo\")\n",
    "else:\n",
    "    print(\"olu\")"
   ]
  },
  {
   "cell_type": "code",
   "execution_count": 30,
   "metadata": {},
   "outputs": [
    {
     "name": "stdout",
     "output_type": "stream",
     "text": [
      "canli\n"
     ]
    }
   ],
   "source": [
    "if KarakterCanli:\n",
    "    print(\"canli\")\n",
    "else:\n",
    "    print(\"Olu\")"
   ]
  },
  {
   "cell_type": "code",
   "execution_count": 31,
   "metadata": {},
   "outputs": [],
   "source": [
    "Ismim=\"Kadri Sabri\""
   ]
  },
  {
   "cell_type": "code",
   "execution_count": 32,
   "metadata": {},
   "outputs": [
    {
     "name": "stdout",
     "output_type": "stream",
     "text": [
      "ismim bu\n"
     ]
    }
   ],
   "source": [
    "if Ismim ==\"Kadri Sabri\":\n",
    "    print(\"ismim bu\")\n",
    "else:\n",
    "    print(\"bu degil\")"
   ]
  },
  {
   "cell_type": "code",
   "execution_count": 33,
   "metadata": {},
   "outputs": [
    {
     "name": "stdout",
     "output_type": "stream",
     "text": [
      "yok\n"
     ]
    }
   ],
   "source": [
    "if Ismim==\"Sab\":\n",
    "    print(\"ismimde bu var\")\n",
    "else:\n",
    "    print(\"yok\")"
   ]
  },
  {
   "cell_type": "code",
   "execution_count": 34,
   "metadata": {},
   "outputs": [
    {
     "name": "stdout",
     "output_type": "stream",
     "text": [
      "ismimde bu var\n"
     ]
    }
   ],
   "source": [
    "if \"Sab\" in Ismim:\n",
    "    print(\"ismimde bu var\")\n",
    "else:\n",
    "    print(\"yok\")"
   ]
  },
  {
   "cell_type": "code",
   "execution_count": 42,
   "metadata": {},
   "outputs": [
    {
     "name": "stdout",
     "output_type": "stream",
     "text": [
      "yok\n"
     ]
    }
   ],
   "source": [
    "BenimListem=[1,2,4,5]\n",
    "deger=input(\"Deger gir\")\n",
    "deger=int(deger)\n",
    "if deger in BenimListem:\n",
    "    print(\"Bu var\")\n",
    "else:\n",
    "    print(\"yok\")"
   ]
  },
  {
   "cell_type": "code",
   "execution_count": null,
   "metadata": {},
   "outputs": [],
   "source": []
  }
 ],
 "metadata": {
  "kernelspec": {
   "display_name": "Python 3.10.7 64-bit",
   "language": "python",
   "name": "python3"
  },
  "language_info": {
   "codemirror_mode": {
    "name": "ipython",
    "version": 3
   },
   "file_extension": ".py",
   "mimetype": "text/x-python",
   "name": "python",
   "nbconvert_exporter": "python",
   "pygments_lexer": "ipython3",
   "version": "3.10.7"
  },
  "orig_nbformat": 4,
  "vscode": {
   "interpreter": {
    "hash": "e0b44264181467635ea2bc6f47fe90068c9b6f8f6719ab5749f6d45e7317ca04"
   }
  }
 },
 "nbformat": 4,
 "nbformat_minor": 2
}
