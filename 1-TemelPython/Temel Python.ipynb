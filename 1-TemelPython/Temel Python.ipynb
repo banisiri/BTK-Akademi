{
 "cells": [
  {
   "cell_type": "code",
   "execution_count": 8,
   "metadata": {},
   "outputs": [
    {
     "name": "stdout",
     "output_type": "stream",
     "text": [
      "0 sea\n",
      "1 sea\n",
      "2 sea\n",
      "3 sea\n",
      "4 sea\n",
      "5 sea\n",
      "6 sea\n",
      "7 sea\n",
      "8 sea\n",
      "9 sea\n",
      "10 sea\n"
     ]
    }
   ],
   "source": [
    "x=0\n",
    "while x<=10:\n",
    "    print(x,\"sea\")\n",
    "    x+=1"
   ]
  },
  {
   "cell_type": "code",
   "execution_count": 22,
   "metadata": {},
   "outputs": [],
   "source": [
    "BenimListem=[1,2,3,4,5]"
   ]
  },
  {
   "cell_type": "code",
   "execution_count": 12,
   "metadata": {},
   "outputs": [
    {
     "data": {
      "text/plain": [
       "5"
      ]
     },
     "execution_count": 12,
     "metadata": {},
     "output_type": "execute_result"
    }
   ],
   "source": [
    "BenimListem.pop()"
   ]
  },
  {
   "cell_type": "code",
   "execution_count": 13,
   "metadata": {},
   "outputs": [
    {
     "data": {
      "text/plain": [
       "[1, 2, 3, 4]"
      ]
     },
     "execution_count": 13,
     "metadata": {},
     "output_type": "execute_result"
    }
   ],
   "source": [
    "BenimListem"
   ]
  },
  {
   "cell_type": "code",
   "execution_count": 14,
   "metadata": {},
   "outputs": [],
   "source": [
    "BenimListem.append(5)"
   ]
  },
  {
   "cell_type": "code",
   "execution_count": 20,
   "metadata": {},
   "outputs": [
    {
     "data": {
      "text/plain": [
       "[1, 2]"
      ]
     },
     "execution_count": 20,
     "metadata": {},
     "output_type": "execute_result"
    }
   ],
   "source": [
    "BenimListem"
   ]
  },
  {
   "cell_type": "code",
   "execution_count": 23,
   "metadata": {},
   "outputs": [
    {
     "name": "stdout",
     "output_type": "stream",
     "text": [
      "3 hala liste icinde\n",
      "3 hala liste icinde\n",
      "3 hala liste icinde\n"
     ]
    }
   ],
   "source": [
    "while 3 in BenimListem:\n",
    "    print(\"3 hala liste icinde\")\n",
    "    BenimListem.pop()"
   ]
  },
  {
   "cell_type": "code",
   "execution_count": 24,
   "metadata": {},
   "outputs": [
    {
     "data": {
      "text/plain": [
       "[1, 2]"
      ]
     },
     "execution_count": 24,
     "metadata": {},
     "output_type": "execute_result"
    }
   ],
   "source": [
    "BenimListem"
   ]
  },
  {
   "cell_type": "code",
   "execution_count": 25,
   "metadata": {},
   "outputs": [],
   "source": [
    "numara=0"
   ]
  },
  {
   "cell_type": "code",
   "execution_count": 26,
   "metadata": {},
   "outputs": [
    {
     "name": "stdout",
     "output_type": "stream",
     "text": [
      "0\n",
      "1\n",
      "2\n",
      "3\n"
     ]
    }
   ],
   "source": [
    "while numara <5:\n",
    "    if numara ==4:\n",
    "        break\n",
    "    print(numara)\n",
    "    numara+=1"
   ]
  },
  {
   "cell_type": "code",
   "execution_count": 32,
   "metadata": {},
   "outputs": [
    {
     "name": "stdout",
     "output_type": "stream",
     "text": [
      "yeni degiskenin degeri:0\n",
      "yeni degiskenin degeri:1\n",
      "yeni degiskenin degeri:2\n",
      "yeni degiskenin degeri:3\n",
      "yeni degiskenin degeri:4\n",
      "yeni degiskenin degeri:5\n",
      "yeni degiskenin degeri:6\n",
      "yeni degiskenin degeri:7\n",
      "yeni degiskenin degeri:8\n",
      "yeni degiskenin degeri:9\n",
      "yeni degiskenin degeri:10\n",
      "yeni degiskenin degeri:11\n",
      "yeni degiskenin degeri:12\n",
      "yeni degiskenin degeri:13\n",
      "yeni degiskenin degeri:14\n"
     ]
    }
   ],
   "source": [
    "Yenidegisken=0\n",
    "while Yenidegisken<15:\n",
    "    print(\"yeni degiskenin degeri:\"+str(Yenidegisken))\n",
    "    Yenidegisken=Yenidegisken+1"
   ]
  },
  {
   "cell_type": "code",
   "execution_count": 33,
   "metadata": {},
   "outputs": [
    {
     "name": "stdout",
     "output_type": "stream",
     "text": [
      "yeni degiskenin degeri: 0\n",
      "yeni degiskenin degeri: 1\n",
      "yeni degiskenin degeri: 2\n",
      "yeni degiskenin degeri: 3\n",
      "yeni degiskenin degeri: 4\n",
      "yeni degiskenin degeri: 5\n",
      "yeni degiskenin degeri: 6\n",
      "yeni degiskenin degeri: 7\n",
      "yeni degiskenin degeri: 8\n",
      "yeni degiskenin degeri: 9\n",
      "yeni degiskenin degeri: 10\n",
      "yeni degiskenin degeri: 11\n",
      "yeni degiskenin degeri: 12\n",
      "yeni degiskenin degeri: 13\n",
      "yeni degiskenin degeri: 14\n"
     ]
    }
   ],
   "source": [
    "Yenidegisken=0\n",
    "while Yenidegisken<15:\n",
    "    print(f\"yeni degiskenin degeri: {Yenidegisken}\")\n",
    "    Yenidegisken=Yenidegisken+1"
   ]
  }
 ],
 "metadata": {
  "kernelspec": {
   "display_name": "Python 3.10.7 64-bit",
   "language": "python",
   "name": "python3"
  },
  "language_info": {
   "codemirror_mode": {
    "name": "ipython",
    "version": 3
   },
   "file_extension": ".py",
   "mimetype": "text/x-python",
   "name": "python",
   "nbconvert_exporter": "python",
   "pygments_lexer": "ipython3",
   "version": "3.10.7"
  },
  "orig_nbformat": 4,
  "vscode": {
   "interpreter": {
    "hash": "e0b44264181467635ea2bc6f47fe90068c9b6f8f6719ab5749f6d45e7317ca04"
   }
  }
 },
 "nbformat": 4,
 "nbformat_minor": 2
}
